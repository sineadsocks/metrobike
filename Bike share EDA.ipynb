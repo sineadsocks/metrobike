{
 "cells": [
  {
   "cell_type": "markdown",
   "id": "0913e2d9",
   "metadata": {},
   "source": [
    "## Bicycle Journeys: Exploratory Data Analysis"
   ]
  },
  {
   "cell_type": "markdown",
   "id": "4e8262e9",
   "metadata": {},
   "source": [
    "Start by importing pakages that will be used in all three tasks"
   ]
  },
  {
   "cell_type": "code",
   "execution_count": 1,
   "id": "a31915e5",
   "metadata": {},
   "outputs": [],
   "source": [
    "import numpy as np\n",
    "import pandas as pd\n",
    "import matplotlib.pyplot as plt\n",
    "import seaborn as sns\n",
    "from sklearn.preprocessing import OneHotEncoder, LabelEncoder"
   ]
  },
  {
   "cell_type": "markdown",
   "id": "25320c91",
   "metadata": {},
   "source": [
    "Using pandas read_csv, the dataset is read into a dataframe. The data types that pandas has chosen are then discovered using dtypes\n",
    "\n",
    "Some of the columns are the wrong data type so they are changed accordingly\n",
    "* the start/end time columns are changed to datetime\n",
    "* the start/end station columns are changed to object"
   ]
  },
  {
   "cell_type": "code",
   "execution_count": 2,
   "id": "b0c8b69c",
   "metadata": {},
   "outputs": [
    {
     "name": "stderr",
     "output_type": "stream",
     "text": [
      "C:\\Users\\sinea\\AppData\\Local\\Temp\\ipykernel_21144\\745810104.py:1: DtypeWarning: Columns (10) have mixed types. Specify dtype option on import or set low_memory=False.\n",
      "  df_metro = pd.read_csv('metro.csv')\n"
     ]
    },
    {
     "data": {
      "text/html": [
       "<div>\n",
       "<style scoped>\n",
       "    .dataframe tbody tr th:only-of-type {\n",
       "        vertical-align: middle;\n",
       "    }\n",
       "\n",
       "    .dataframe tbody tr th {\n",
       "        vertical-align: top;\n",
       "    }\n",
       "\n",
       "    .dataframe thead th {\n",
       "        text-align: right;\n",
       "    }\n",
       "</style>\n",
       "<table border=\"1\" class=\"dataframe\">\n",
       "  <thead>\n",
       "    <tr style=\"text-align: right;\">\n",
       "      <th></th>\n",
       "      <th>trip_id</th>\n",
       "      <th>duration</th>\n",
       "      <th>start_time</th>\n",
       "      <th>end_time</th>\n",
       "      <th>start_station</th>\n",
       "      <th>start_lat</th>\n",
       "      <th>start_lon</th>\n",
       "      <th>end_station</th>\n",
       "      <th>end_lat</th>\n",
       "      <th>end_lon</th>\n",
       "      <th>bike_id</th>\n",
       "      <th>plan_duration</th>\n",
       "      <th>trip_route_category</th>\n",
       "      <th>passholder_type</th>\n",
       "      <th>bike_type</th>\n",
       "    </tr>\n",
       "  </thead>\n",
       "  <tbody>\n",
       "    <tr>\n",
       "      <th>0</th>\n",
       "      <td>124657107</td>\n",
       "      <td>5</td>\n",
       "      <td>07/01/2019 00:04</td>\n",
       "      <td>07/01/2019 00:09</td>\n",
       "      <td>4312</td>\n",
       "      <td>34.066990</td>\n",
       "      <td>-118.290878</td>\n",
       "      <td>4410</td>\n",
       "      <td>34.063351</td>\n",
       "      <td>-118.296799</td>\n",
       "      <td>6168</td>\n",
       "      <td>30</td>\n",
       "      <td>One Way</td>\n",
       "      <td>Monthly Pass</td>\n",
       "      <td>standard</td>\n",
       "    </tr>\n",
       "    <tr>\n",
       "      <th>1</th>\n",
       "      <td>124657587</td>\n",
       "      <td>9</td>\n",
       "      <td>07/01/2019 00:07</td>\n",
       "      <td>07/01/2019 00:16</td>\n",
       "      <td>3066</td>\n",
       "      <td>34.063389</td>\n",
       "      <td>-118.236160</td>\n",
       "      <td>3066</td>\n",
       "      <td>34.063389</td>\n",
       "      <td>-118.236160</td>\n",
       "      <td>17584</td>\n",
       "      <td>30</td>\n",
       "      <td>Round Trip</td>\n",
       "      <td>Monthly Pass</td>\n",
       "      <td>electric</td>\n",
       "    </tr>\n",
       "    <tr>\n",
       "      <th>2</th>\n",
       "      <td>124658068</td>\n",
       "      <td>5</td>\n",
       "      <td>07/01/2019 00:20</td>\n",
       "      <td>07/01/2019 00:25</td>\n",
       "      <td>4410</td>\n",
       "      <td>34.063351</td>\n",
       "      <td>-118.296799</td>\n",
       "      <td>4312</td>\n",
       "      <td>34.066990</td>\n",
       "      <td>-118.290878</td>\n",
       "      <td>18920</td>\n",
       "      <td>30</td>\n",
       "      <td>One Way</td>\n",
       "      <td>Monthly Pass</td>\n",
       "      <td>electric</td>\n",
       "    </tr>\n",
       "    <tr>\n",
       "      <th>3</th>\n",
       "      <td>124659747</td>\n",
       "      <td>20</td>\n",
       "      <td>07/01/2019 00:44</td>\n",
       "      <td>07/01/2019 01:04</td>\n",
       "      <td>3045</td>\n",
       "      <td>34.028511</td>\n",
       "      <td>-118.256668</td>\n",
       "      <td>4275</td>\n",
       "      <td>34.012520</td>\n",
       "      <td>-118.285896</td>\n",
       "      <td>6016</td>\n",
       "      <td>1</td>\n",
       "      <td>One Way</td>\n",
       "      <td>Walk-up</td>\n",
       "      <td>standard</td>\n",
       "    </tr>\n",
       "    <tr>\n",
       "      <th>4</th>\n",
       "      <td>124660227</td>\n",
       "      <td>27</td>\n",
       "      <td>07/01/2019 00:44</td>\n",
       "      <td>07/01/2019 01:11</td>\n",
       "      <td>3035</td>\n",
       "      <td>34.048401</td>\n",
       "      <td>-118.260948</td>\n",
       "      <td>3049</td>\n",
       "      <td>34.056969</td>\n",
       "      <td>-118.253593</td>\n",
       "      <td>5867</td>\n",
       "      <td>30</td>\n",
       "      <td>One Way</td>\n",
       "      <td>Monthly Pass</td>\n",
       "      <td>standard</td>\n",
       "    </tr>\n",
       "  </tbody>\n",
       "</table>\n",
       "</div>"
      ],
      "text/plain": [
       "     trip_id  duration        start_time          end_time  start_station  \\\n",
       "0  124657107         5  07/01/2019 00:04  07/01/2019 00:09           4312   \n",
       "1  124657587         9  07/01/2019 00:07  07/01/2019 00:16           3066   \n",
       "2  124658068         5  07/01/2019 00:20  07/01/2019 00:25           4410   \n",
       "3  124659747        20  07/01/2019 00:44  07/01/2019 01:04           3045   \n",
       "4  124660227        27  07/01/2019 00:44  07/01/2019 01:11           3035   \n",
       "\n",
       "   start_lat   start_lon  end_station    end_lat     end_lon bike_id  \\\n",
       "0  34.066990 -118.290878         4410  34.063351 -118.296799    6168   \n",
       "1  34.063389 -118.236160         3066  34.063389 -118.236160   17584   \n",
       "2  34.063351 -118.296799         4312  34.066990 -118.290878   18920   \n",
       "3  34.028511 -118.256668         4275  34.012520 -118.285896    6016   \n",
       "4  34.048401 -118.260948         3049  34.056969 -118.253593    5867   \n",
       "\n",
       "   plan_duration trip_route_category passholder_type bike_type  \n",
       "0             30             One Way    Monthly Pass  standard  \n",
       "1             30          Round Trip    Monthly Pass  electric  \n",
       "2             30             One Way    Monthly Pass  electric  \n",
       "3              1             One Way         Walk-up  standard  \n",
       "4             30             One Way    Monthly Pass  standard  "
      ]
     },
     "execution_count": 2,
     "metadata": {},
     "output_type": "execute_result"
    }
   ],
   "source": [
    "df_metro = pd.read_csv('metro.csv')\n",
    "df_metro.head()"
   ]
  },
  {
   "cell_type": "code",
   "execution_count": 3,
   "id": "a05b4184",
   "metadata": {},
   "outputs": [
    {
     "data": {
      "text/plain": [
       "trip_id                  int64\n",
       "duration                 int64\n",
       "start_time              object\n",
       "end_time                object\n",
       "start_station            int64\n",
       "start_lat              float64\n",
       "start_lon              float64\n",
       "end_station              int64\n",
       "end_lat                float64\n",
       "end_lon                float64\n",
       "bike_id                 object\n",
       "plan_duration            int64\n",
       "trip_route_category     object\n",
       "passholder_type         object\n",
       "bike_type               object\n",
       "dtype: object"
      ]
     },
     "execution_count": 3,
     "metadata": {},
     "output_type": "execute_result"
    }
   ],
   "source": [
    "df_metro.dtypes"
   ]
  },
  {
   "cell_type": "code",
   "execution_count": 4,
   "id": "c7aa3c80",
   "metadata": {},
   "outputs": [],
   "source": [
    "df_metro['start_time'] = pd.to_datetime(df_metro['start_time'])\n",
    "df_metro['end_time'] = pd.to_datetime(df_metro['end_time'])\n",
    "\n",
    "df_metro['start_station'] = df_metro['start_station'].astype(object)\n",
    "df_metro['end_station'] = df_metro['end_station'].astype(object)"
   ]
  },
  {
   "cell_type": "markdown",
   "id": "7c998ec9",
   "metadata": {},
   "source": [
    "To see summary statistics of the dataset before preprocessing, the describe function is used. \n",
    "\n",
    "To see the shape of the dataframe, shape is used.\n",
    "\n",
    "There are 92124 samples and 15 features.\n",
    "\n",
    "Some interesting initial findings are:\n",
    "* the start_lat/lon and end_lat/lon columns have less rows than the other rows \n",
    "* the start_station and end_station means are different, inferring that people end their trips in different stations than where they start, on average\n",
    "\n",
    "* the maximum trip length is 999 minutes which is 16.65 hours - could be an anomonly \n",
    "    * seems even more likely to be anomaly as 75% of the data is less than half an hour\n",
    "* The minimum trip length is 1 minute, as well as 25% of the data, which also seems incorrect\n",
    "    * This could be due to customers quickly putting their bike back as soon as they got, or technical errors"
   ]
  },
  {
   "cell_type": "code",
   "execution_count": 6,
   "id": "ef39dbd0",
   "metadata": {},
   "outputs": [
    {
     "name": "stdout",
     "output_type": "stream",
     "text": [
      "(92124, 15)\n"
     ]
    },
    {
     "data": {
      "text/html": [
       "<div>\n",
       "<style scoped>\n",
       "    .dataframe tbody tr th:only-of-type {\n",
       "        vertical-align: middle;\n",
       "    }\n",
       "\n",
       "    .dataframe tbody tr th {\n",
       "        vertical-align: top;\n",
       "    }\n",
       "\n",
       "    .dataframe thead th {\n",
       "        text-align: right;\n",
       "    }\n",
       "</style>\n",
       "<table border=\"1\" class=\"dataframe\">\n",
       "  <thead>\n",
       "    <tr style=\"text-align: right;\">\n",
       "      <th></th>\n",
       "      <th>trip_id</th>\n",
       "      <th>duration</th>\n",
       "      <th>start_lat</th>\n",
       "      <th>start_lon</th>\n",
       "      <th>end_lat</th>\n",
       "      <th>end_lon</th>\n",
       "      <th>plan_duration</th>\n",
       "    </tr>\n",
       "  </thead>\n",
       "  <tbody>\n",
       "    <tr>\n",
       "      <th>count</th>\n",
       "      <td>9.212400e+04</td>\n",
       "      <td>92124.000000</td>\n",
       "      <td>89985.000000</td>\n",
       "      <td>89985.000000</td>\n",
       "      <td>88052.000000</td>\n",
       "      <td>88052.000000</td>\n",
       "      <td>92124.000000</td>\n",
       "    </tr>\n",
       "    <tr>\n",
       "      <th>mean</th>\n",
       "      <td>1.274286e+08</td>\n",
       "      <td>33.168588</td>\n",
       "      <td>34.034786</td>\n",
       "      <td>-118.287893</td>\n",
       "      <td>34.034895</td>\n",
       "      <td>-118.286699</td>\n",
       "      <td>60.290977</td>\n",
       "    </tr>\n",
       "    <tr>\n",
       "      <th>std</th>\n",
       "      <td>1.524134e+06</td>\n",
       "      <td>129.057841</td>\n",
       "      <td>0.058803</td>\n",
       "      <td>0.073501</td>\n",
       "      <td>0.058790</td>\n",
       "      <td>0.072628</td>\n",
       "      <td>111.141364</td>\n",
       "    </tr>\n",
       "    <tr>\n",
       "      <th>min</th>\n",
       "      <td>1.246571e+08</td>\n",
       "      <td>1.000000</td>\n",
       "      <td>33.710979</td>\n",
       "      <td>-118.495422</td>\n",
       "      <td>33.710979</td>\n",
       "      <td>-118.495422</td>\n",
       "      <td>1.000000</td>\n",
       "    </tr>\n",
       "    <tr>\n",
       "      <th>25%</th>\n",
       "      <td>1.261375e+08</td>\n",
       "      <td>6.000000</td>\n",
       "      <td>34.035801</td>\n",
       "      <td>-118.281181</td>\n",
       "      <td>34.037048</td>\n",
       "      <td>-118.280952</td>\n",
       "      <td>1.000000</td>\n",
       "    </tr>\n",
       "    <tr>\n",
       "      <th>50%</th>\n",
       "      <td>1.274911e+08</td>\n",
       "      <td>12.000000</td>\n",
       "      <td>34.046810</td>\n",
       "      <td>-118.258537</td>\n",
       "      <td>34.046810</td>\n",
       "      <td>-118.258537</td>\n",
       "      <td>30.000000</td>\n",
       "    </tr>\n",
       "    <tr>\n",
       "      <th>75%</th>\n",
       "      <td>1.287379e+08</td>\n",
       "      <td>22.000000</td>\n",
       "      <td>34.051941</td>\n",
       "      <td>-118.248253</td>\n",
       "      <td>34.051941</td>\n",
       "      <td>-118.248253</td>\n",
       "      <td>30.000000</td>\n",
       "    </tr>\n",
       "    <tr>\n",
       "      <th>max</th>\n",
       "      <td>1.303877e+08</td>\n",
       "      <td>1440.000000</td>\n",
       "      <td>34.177662</td>\n",
       "      <td>-118.231277</td>\n",
       "      <td>34.177662</td>\n",
       "      <td>-118.231277</td>\n",
       "      <td>999.000000</td>\n",
       "    </tr>\n",
       "  </tbody>\n",
       "</table>\n",
       "</div>"
      ],
      "text/plain": [
       "            trip_id      duration     start_lat     start_lon       end_lat  \\\n",
       "count  9.212400e+04  92124.000000  89985.000000  89985.000000  88052.000000   \n",
       "mean   1.274286e+08     33.168588     34.034786   -118.287893     34.034895   \n",
       "std    1.524134e+06    129.057841      0.058803      0.073501      0.058790   \n",
       "min    1.246571e+08      1.000000     33.710979   -118.495422     33.710979   \n",
       "25%    1.261375e+08      6.000000     34.035801   -118.281181     34.037048   \n",
       "50%    1.274911e+08     12.000000     34.046810   -118.258537     34.046810   \n",
       "75%    1.287379e+08     22.000000     34.051941   -118.248253     34.051941   \n",
       "max    1.303877e+08   1440.000000     34.177662   -118.231277     34.177662   \n",
       "\n",
       "            end_lon  plan_duration  \n",
       "count  88052.000000   92124.000000  \n",
       "mean    -118.286699      60.290977  \n",
       "std        0.072628     111.141364  \n",
       "min     -118.495422       1.000000  \n",
       "25%     -118.280952       1.000000  \n",
       "50%     -118.258537      30.000000  \n",
       "75%     -118.248253      30.000000  \n",
       "max     -118.231277     999.000000  "
      ]
     },
     "execution_count": 6,
     "metadata": {},
     "output_type": "execute_result"
    }
   ],
   "source": [
    "print(df_metro.shape)\n",
    "df_metro.describe()"
   ]
  },
  {
   "cell_type": "markdown",
   "id": "afb1bbf1",
   "metadata": {},
   "source": [
    "Trip_id isn't useful for analysis so the column is dropped"
   ]
  },
  {
   "cell_type": "code",
   "execution_count": 7,
   "id": "796bab6e",
   "metadata": {},
   "outputs": [],
   "source": [
    "df_metro = df_metro.drop('trip_id', axis=1)"
   ]
  },
  {
   "cell_type": "markdown",
   "id": "a8410048",
   "metadata": {},
   "source": [
    "Next, I want to find out whether the dataset has duplicate rows and/or missing values.\n",
    "\n",
    "We discover that there are no duplicates, however there are missing values in the start_lat/lon and end_lat/lon columns which explains the lower number of counts from above."
   ]
  },
  {
   "cell_type": "code",
   "execution_count": 8,
   "id": "8e4236e4",
   "metadata": {},
   "outputs": [
    {
     "data": {
      "text/plain": [
       "0"
      ]
     },
     "execution_count": 8,
     "metadata": {},
     "output_type": "execute_result"
    }
   ],
   "source": [
    "df_metro.duplicated().sum()"
   ]
  },
  {
   "cell_type": "code",
   "execution_count": 9,
   "id": "374e3380",
   "metadata": {},
   "outputs": [
    {
     "data": {
      "text/plain": [
       "duration                  0\n",
       "start_time                0\n",
       "end_time                  0\n",
       "start_station             0\n",
       "start_lat              2139\n",
       "start_lon              2139\n",
       "end_station               0\n",
       "end_lat                4072\n",
       "end_lon                4072\n",
       "bike_id                   0\n",
       "plan_duration             0\n",
       "trip_route_category       0\n",
       "passholder_type           0\n",
       "bike_type                 0\n",
       "dtype: int64"
      ]
     },
     "execution_count": 9,
     "metadata": {},
     "output_type": "execute_result"
    }
   ],
   "source": [
    "df_metro.isnull().sum()"
   ]
  },
  {
   "cell_type": "markdown",
   "id": "ba92d3ab",
   "metadata": {},
   "source": [
    "There are a few thousand missing values. To deal with them I opted to fill in the values with the mode. \n",
    "* I didn't want to delete the rows because I want the most data I can get, but I didn't want to fill in with mean as the columns with missing values represent locations so I felt using the mode to fill in these was a good representation of an actual location"
   ]
  },
  {
   "cell_type": "code",
   "execution_count": 10,
   "id": "8a7300e9",
   "metadata": {},
   "outputs": [],
   "source": [
    "df_metro['start_lat'].fillna(df_metro['start_lat'].mode()[0], inplace=True)\n",
    "df_metro['start_lon'].fillna(df_metro['start_lon'].mode()[0], inplace=True)\n",
    "df_metro['end_lat'].fillna(df_metro['end_lat'].mode()[0], inplace=True)\n",
    "df_metro['end_lon'].fillna(df_metro['end_lon'].mode()[0], inplace=True)"
   ]
  },
  {
   "cell_type": "markdown",
   "id": "b67f1621",
   "metadata": {},
   "source": [
    "Next, I look to see what the unique values in columns with categories are and use bar charts to visualise the counts of these categories easily."
   ]
  },
  {
   "cell_type": "code",
   "execution_count": 11,
   "id": "e73f3529",
   "metadata": {},
   "outputs": [
    {
     "name": "stdout",
     "output_type": "stream",
     "text": [
      "Trip route type: ['One Way' 'Round Trip']\n",
      "Passholder types: ['Monthly Pass' 'Walk-up' 'Annual Pass' 'One Day Pass' 'Flex Pass'\n",
      " 'Testing']\n",
      "Bike types: ['standard' 'electric' 'smart']\n"
     ]
    }
   ],
   "source": [
    "trips = df_metro['trip_route_category'].unique()\n",
    "passholders = df_metro['passholder_type'].unique()\n",
    "bikes = df_metro['bike_type'].unique()\n",
    "\n",
    "print(f'Trip route type: {trips}')   \n",
    "print(f'Passholder types: {passholders}')  \n",
    "print(f'Bike types: {bikes}')     "
   ]
  },
  {
   "cell_type": "markdown",
   "id": "a6907688",
   "metadata": {},
   "source": [
    "There are 2 trip routes - one way or round trip - and they have a large class imbalance. The one way trip has 76.7K entries, whereas a round trip only has 15.3k entries."
   ]
  },
  {
   "cell_type": "code",
   "execution_count": 12,
   "id": "145c749e",
   "metadata": {},
   "outputs": [
    {
     "data": {
      "image/png": "[encoded data removed]",
      "text/plain": [
       "<Figure size 360x360 with 1 Axes>"
      ]
     },
     "metadata": {
      "needs_background": "light"
     },
     "output_type": "display_data"
    },
    {
     "data": {
      "text/plain": [
       "<Figure size 720x504 with 0 Axes>"
      ]
     },
     "metadata": {},
     "output_type": "display_data"
    }
   ],
   "source": [
    "trip_plot = sns.catplot(data= df_metro, x= 'trip_route_category', kind='count', palette=\"husl\");\n",
    "plt.figure(figsize=(10, 7))\n",
    "\n",
    "for ax in trip_plot.axes.ravel():\n",
    "    for n in ax.containers:\n",
    "        labels = [f'{(v.get_height()):.0f}' for v in n]\n",
    "        ax.bar_label(n, labels=labels, label_type='edge')\n",
    "\n",
    "plt.show();"
   ]
  },
  {
   "cell_type": "markdown",
   "id": "6df87e9b",
   "metadata": {},
   "source": [
    "There are 6 types of passholders, the most popular one being the monthly pass with 57.1k, which is followed by walk-up passes at 23.5k.\n",
    "The smallest category of passholders is the flex pass which has only 6 trips."
   ]
  },
  {
   "cell_type": "code",
   "execution_count": 13,
   "id": "c745acca",
   "metadata": {},
   "outputs": [
    {
     "data": {
      "image/png": "[encoded data removed]",
      "text/plain": [
       "<Figure size 360x360 with 1 Axes>"
      ]
     },
     "metadata": {
      "needs_background": "light"
     },
     "output_type": "display_data"
    },
    {
     "data": {
      "text/plain": [
       "<Figure size 1080x504 with 0 Axes>"
      ]
     },
     "metadata": {},
     "output_type": "display_data"
    }
   ],
   "source": [
    "pass_plot = sns.catplot(data=df_metro, y='passholder_type', kind='count', palette=\"husl\");\n",
    "plt.figure(figsize=(15, 7))\n",
    "\n",
    "for ax in pass_plot.axes.ravel():\n",
    "    for n in ax.containers:\n",
    "        labels = [f'{(v.get_width()):.0f}' for v in n]\n",
    "        ax.bar_label(n, labels=labels)\n",
    "\n",
    "plt.show()"
   ]
  },
  {
   "cell_type": "markdown",
   "id": "e533ab44",
   "metadata": {},
   "source": [
    "The majority of bikes were electric (50.42%), followed by standard bikes with just under a third of trips, and finally smart bikes accounted for 17.59% of the trips.\n",
    "The bike types are imbalanced as a result."
   ]
  },
  {
   "cell_type": "code",
   "execution_count": 14,
   "id": "bf096b15",
   "metadata": {},
   "outputs": [
    {
     "data": {
      "image/png": "[encoded data removed]",
      "text/plain": [
       "<Figure size 432x432 with 1 Axes>"
      ]
     },
     "metadata": {},
     "output_type": "display_data"
    }
   ],
   "source": [
    "df_metro.groupby('bike_type').size().plot(kind='pie', autopct = lambda a:f'{a:.2f}%', ylabel=\"Bike Types\", colormap=\"Set1\", figsize=(6,6));"
   ]
  },
  {
   "cell_type": "markdown",
   "id": "faccf467",
   "metadata": {},
   "source": [
    "Now we find the mean duration of each passholder type in minutes.\n",
    "\n",
    "The highest mean was for a one day pass which shows the average trip was 79 minutes.\n",
    "The lowest mean was for flex pass which shows the average trip as 7 minutes.\n",
    "\n",
    "This is probably because if you are paying for one day you want to make the most of the bike and are probably paying for a specific trip, but with a flex pass it implies a more flexible approach so you most likely paid for the bike for more than a day and don't have that level of committment as with a day pass."
   ]
  },
  {
   "cell_type": "code",
   "execution_count": 15,
   "id": "2085276d",
   "metadata": {},
   "outputs": [
    {
     "data": {
      "text/plain": [
       "passholder_type\n",
       "Annual Pass     15.664148\n",
       "Flex Pass        7.333333\n",
       "Monthly Pass    15.854919\n",
       "One Day Pass    79.548599\n",
       "Testing         29.608696\n",
       "Walk-up         69.722449\n",
       "Name: duration, dtype: float64"
      ]
     },
     "execution_count": 15,
     "metadata": {},
     "output_type": "execute_result"
    }
   ],
   "source": [
    "df_metro.groupby(['passholder_type'])['duration'].mean()"
   ]
  },
  {
   "cell_type": "markdown",
   "id": "3c7c823f",
   "metadata": {},
   "source": [
    "Using crosstab, a table of passholder type by bike type was created, and subsequently used to create a barplot\n",
    "* From the barplot we can see that most monthly passes come from people with electric bikes\n",
    "* smart bikes have barely any annual pass holders, but the most one day passes\n",
    "* standard bikes seems to have the most walk-up passes"
   ]
  },
  {
   "cell_type": "code",
   "execution_count": 17,
   "id": "709b0bf4",
   "metadata": {},
   "outputs": [
    {
     "data": {
      "text/html": [
       "<div>\n",
       "<style scoped>\n",
       "    .dataframe tbody tr th:only-of-type {\n",
       "        vertical-align: middle;\n",
       "    }\n",
       "\n",
       "    .dataframe tbody tr th {\n",
       "        vertical-align: top;\n",
       "    }\n",
       "\n",
       "    .dataframe thead th {\n",
       "        text-align: right;\n",
       "    }\n",
       "</style>\n",
       "<table border=\"1\" class=\"dataframe\">\n",
       "  <thead>\n",
       "    <tr style=\"text-align: right;\">\n",
       "      <th>passholder_type</th>\n",
       "      <th>Annual Pass</th>\n",
       "      <th>Flex Pass</th>\n",
       "      <th>Monthly Pass</th>\n",
       "      <th>One Day Pass</th>\n",
       "      <th>Testing</th>\n",
       "      <th>Walk-up</th>\n",
       "    </tr>\n",
       "    <tr>\n",
       "      <th>bike_type</th>\n",
       "      <th></th>\n",
       "      <th></th>\n",
       "      <th></th>\n",
       "      <th></th>\n",
       "      <th></th>\n",
       "      <th></th>\n",
       "    </tr>\n",
       "  </thead>\n",
       "  <tbody>\n",
       "    <tr>\n",
       "      <th>electric</th>\n",
       "      <td>3467</td>\n",
       "      <td>2</td>\n",
       "      <td>35556</td>\n",
       "      <td>1047</td>\n",
       "      <td>0</td>\n",
       "      <td>6374</td>\n",
       "    </tr>\n",
       "    <tr>\n",
       "      <th>smart</th>\n",
       "      <td>278</td>\n",
       "      <td>0</td>\n",
       "      <td>4656</td>\n",
       "      <td>3165</td>\n",
       "      <td>46</td>\n",
       "      <td>8056</td>\n",
       "    </tr>\n",
       "    <tr>\n",
       "      <th>standard</th>\n",
       "      <td>2475</td>\n",
       "      <td>4</td>\n",
       "      <td>16963</td>\n",
       "      <td>963</td>\n",
       "      <td>0</td>\n",
       "      <td>9072</td>\n",
       "    </tr>\n",
       "  </tbody>\n",
       "</table>\n",
       "</div>"
      ],
      "text/plain": [
       "passholder_type  Annual Pass  Flex Pass  Monthly Pass  One Day Pass  Testing  \\\n",
       "bike_type                                                                      \n",
       "electric                3467          2         35556          1047        0   \n",
       "smart                    278          0          4656          3165       46   \n",
       "standard                2475          4         16963           963        0   \n",
       "\n",
       "passholder_type  Walk-up  \n",
       "bike_type                 \n",
       "electric            6374  \n",
       "smart               8056  \n",
       "standard            9072  "
      ]
     },
     "execution_count": 17,
     "metadata": {},
     "output_type": "execute_result"
    }
   ],
   "source": [
    "pd.crosstab(df_metro['bike_type'], df_metro['passholder_type'])    #find counts of crosstabulation of bike type and passholder type"
   ]
  },
  {
   "cell_type": "code",
   "execution_count": 18,
   "id": "703b0272",
   "metadata": {},
   "outputs": [
    {
     "data": {
      "image/png": "[encoded data removed]",
      "text/plain": [
       "<Figure size 432x288 with 1 Axes>"
      ]
     },
     "metadata": {
      "needs_background": "light"
     },
     "output_type": "display_data"
    }
   ],
   "source": [
    "pd.crosstab(df_metro['bike_type'], df_metro['passholder_type']).plot.bar();"
   ]
  },
  {
   "cell_type": "markdown",
   "id": "7f2249c8",
   "metadata": {},
   "source": [
    "**Determining the shortest and longest trips and when they occur:**\n",
    "* The longest trip being 1440 minutes seems like an outlier\n",
    "* We can see this more clearly by plotting a histogram and see there are no trips near the 1440 trip\n",
    "* The data is very positively skewed"
   ]
  },
  {
   "cell_type": "code",
   "execution_count": 19,
   "id": "1362ba7a",
   "metadata": {},
   "outputs": [
    {
     "name": "stdout",
     "output_type": "stream",
     "text": [
      "The shortest trip duration is on 83 with 1 minutes, and the longest trip is on 126 with 1440 minutes\n"
     ]
    }
   ],
   "source": [
    "low_dur = df_metro.duration.idxmin()\n",
    "high_dur = df_metro.duration.idxmax()\n",
    "low_anom = df_metro.duration.min()\n",
    "high_anom = df_metro.duration.max()\n",
    "\n",
    "print(f'The shortest trip duration is on {low_dur} with {low_anom} minutes, and the longest trip is on {high_dur} with {high_anom} minutes')"
   ]
  },
  {
   "cell_type": "code",
   "execution_count": 20,
   "id": "54bca66f",
   "metadata": {},
   "outputs": [
    {
     "data": {
      "image/png": "[encoded data removed]",
      "text/plain": [
       "<Figure size 432x288 with 1 Axes>"
      ]
     },
     "metadata": {
      "needs_background": "light"
     },
     "output_type": "display_data"
    }
   ],
   "source": [
    "df_metro.duration.hist(bins=40);"
   ]
  },
  {
   "cell_type": "markdown",
   "id": "2c7a9ef5",
   "metadata": {},
   "source": [
    "I remove the rows where the duration is over 200, an estimate based off the barplot made\n",
    "* this leaves us with all the trips less than 200 minutes (just over 3 hours)\n",
    "* I chose 200 minutes after testing 600, 400 and 300 minutes and found the distributions were still extremely skewed\n",
    "* I didn't want to go much below 200 minutes so not much data was lost and i thought some people may still have a trip for around 3 hours\n",
    "* the graph is still very skewed but has more of a shape than previously"
   ]
  },
  {
   "cell_type": "code",
   "execution_count": 22,
   "id": "b7a727c1",
   "metadata": {},
   "outputs": [],
   "source": [
    "df_metro = df_metro[df_metro.duration < 200]"
   ]
  },
  {
   "cell_type": "code",
   "execution_count": 23,
   "id": "ff6a552a",
   "metadata": {},
   "outputs": [
    {
     "data": {
      "image/png": "[encoded data removed]",
      "text/plain": [
       "<Figure size 432x288 with 1 Axes>"
      ]
     },
     "metadata": {
      "needs_background": "light"
     },
     "output_type": "display_data"
    }
   ],
   "source": [
    "df_metro.duration.hist(color=\"pink\", bins=40);"
   ]
  },
  {
   "cell_type": "markdown",
   "id": "20dc4fde",
   "metadata": {},
   "source": [
    "Looking at the distributions of the passholder types a few things stand out:\n",
    "* Flex pass only has trips towards the 0 mark\n",
    "* Testing pass is positively skewed but has what looks like an outlier near the 150 mark\n",
    "* Walk-up trips look pretty evenly spread with a bit less density towards the 200 mark\n",
    "     * This is similar for monthly pass and one day pass too\n",
    "* The annual pass has a lot of samples where the duration is below around 20 minutes, then is scattered up to the 200 mark"
   ]
  },
  {
   "cell_type": "code",
   "execution_count": 24,
   "id": "f842828e",
   "metadata": {},
   "outputs": [
    {
     "data": {
      "image/png": "[encoded data removed]",
      "text/plain": [
       "<Figure size 360x360 with 1 Axes>"
      ]
     },
     "metadata": {
      "needs_background": "light"
     },
     "output_type": "display_data"
    }
   ],
   "source": [
    "sns.catplot(x= 'passholder_type', y='duration', data=df_metro)\n",
    "plt.xticks(rotation=45);"
   ]
  },
  {
   "cell_type": "markdown",
   "id": "46dc28bc",
   "metadata": {},
   "source": [
    "Next, we will look at how the duration of a journey changes betwen one way trips and round trips\n",
    "\n",
    "We start by encoding the two categories, a one way trip becomes 0, and a round trip becomes 1"
   ]
  },
  {
   "cell_type": "code",
   "execution_count": 26,
   "id": "56c6c71c",
   "metadata": {},
   "outputs": [
    {
     "name": "stderr",
     "output_type": "stream",
     "text": [
      "C:\\Users\\sinea\\AppData\\Local\\Temp\\ipykernel_21144\\996509723.py:2: SettingWithCopyWarning: \n",
      "A value is trying to be set on a copy of a slice from a DataFrame.\n",
      "Try using .loc[row_indexer,col_indexer] = value instead\n",
      "\n",
      "See the caveats in the documentation: https://pandas.pydata.org/pandas-docs/stable/user_guide/indexing.html#returning-a-view-versus-a-copy\n",
      "  df_metro['trip_route_category_enc'] = label.fit_transform(df_metro['trip_route_category'])\n"
     ]
    },
    {
     "data": {
      "text/html": [
       "<div>\n",
       "<style scoped>\n",
       "    .dataframe tbody tr th:only-of-type {\n",
       "        vertical-align: middle;\n",
       "    }\n",
       "\n",
       "    .dataframe tbody tr th {\n",
       "        vertical-align: top;\n",
       "    }\n",
       "\n",
       "    .dataframe thead th {\n",
       "        text-align: right;\n",
       "    }\n",
       "</style>\n",
       "<table border=\"1\" class=\"dataframe\">\n",
       "  <thead>\n",
       "    <tr style=\"text-align: right;\">\n",
       "      <th></th>\n",
       "      <th>trip_route_category</th>\n",
       "      <th>trip_route_category_enc</th>\n",
       "    </tr>\n",
       "  </thead>\n",
       "  <tbody>\n",
       "    <tr>\n",
       "      <th>0</th>\n",
       "      <td>One Way</td>\n",
       "      <td>0</td>\n",
       "    </tr>\n",
       "    <tr>\n",
       "      <th>1</th>\n",
       "      <td>Round Trip</td>\n",
       "      <td>1</td>\n",
       "    </tr>\n",
       "    <tr>\n",
       "      <th>2</th>\n",
       "      <td>One Way</td>\n",
       "      <td>0</td>\n",
       "    </tr>\n",
       "    <tr>\n",
       "      <th>3</th>\n",
       "      <td>One Way</td>\n",
       "      <td>0</td>\n",
       "    </tr>\n",
       "    <tr>\n",
       "      <th>4</th>\n",
       "      <td>One Way</td>\n",
       "      <td>0</td>\n",
       "    </tr>\n",
       "    <tr>\n",
       "      <th>...</th>\n",
       "      <td>...</td>\n",
       "      <td>...</td>\n",
       "    </tr>\n",
       "    <tr>\n",
       "      <th>92119</th>\n",
       "      <td>One Way</td>\n",
       "      <td>0</td>\n",
       "    </tr>\n",
       "    <tr>\n",
       "      <th>92120</th>\n",
       "      <td>Round Trip</td>\n",
       "      <td>1</td>\n",
       "    </tr>\n",
       "    <tr>\n",
       "      <th>92121</th>\n",
       "      <td>One Way</td>\n",
       "      <td>0</td>\n",
       "    </tr>\n",
       "    <tr>\n",
       "      <th>92122</th>\n",
       "      <td>One Way</td>\n",
       "      <td>0</td>\n",
       "    </tr>\n",
       "    <tr>\n",
       "      <th>92123</th>\n",
       "      <td>One Way</td>\n",
       "      <td>0</td>\n",
       "    </tr>\n",
       "  </tbody>\n",
       "</table>\n",
       "<p>90392 rows × 2 columns</p>\n",
       "</div>"
      ],
      "text/plain": [
       "      trip_route_category  trip_route_category_enc\n",
       "0                 One Way                        0\n",
       "1              Round Trip                        1\n",
       "2                 One Way                        0\n",
       "3                 One Way                        0\n",
       "4                 One Way                        0\n",
       "...                   ...                      ...\n",
       "92119             One Way                        0\n",
       "92120          Round Trip                        1\n",
       "92121             One Way                        0\n",
       "92122             One Way                        0\n",
       "92123             One Way                        0\n",
       "\n",
       "[90392 rows x 2 columns]"
      ]
     },
     "execution_count": 26,
     "metadata": {},
     "output_type": "execute_result"
    }
   ],
   "source": [
    "label = LabelEncoder()\n",
    "df_metro['trip_route_category_enc'] = label.fit_transform(df_metro['trip_route_category'])\n",
    "df_metro[['trip_route_category', 'trip_route_category_enc']]"
   ]
  },
  {
   "cell_type": "markdown",
   "id": "c7d32b88",
   "metadata": {},
   "source": [
    "Next, a kde plot is made showing the distribution of both kinds of trips against each other\n",
    "\n",
    "* We see that one way trips has a lower standard deviation (less spread out) and round trips are slightly more spread out \n",
    "* Round trips peaks slightly sooner than one way trips at around 0, but then has a second lower peak at around 25 minutes."
   ]
  },
  {
   "cell_type": "code",
   "execution_count": 27,
   "id": "2be59d00",
   "metadata": {},
   "outputs": [
    {
     "data": {
      "image/png": "[encoded data removed]",
      "text/plain": [
       "<Figure size 864x576 with 1 Axes>"
      ]
     },
     "metadata": {
      "needs_background": "light"
     },
     "output_type": "display_data"
    }
   ],
   "source": [
    "fig = plt.figure(figsize=(12, 8))\n",
    "ax = sns.kdeplot(df_metro.loc[(df_metro['trip_route_category_enc'] == 0), 'duration'],\n",
    "                 color='pink', shade=True, label='One way')\n",
    "ax = sns.kdeplot(df_metro.loc[(df_metro['trip_route_category_enc'] == 1), 'duration'],\n",
    "                 color='blue', shade=True, label='Round trip')\n",
    "plt.title('Duration distribution - One way trip vs Round trip', fontsize=17)\n",
    "plt.ylabel('Frequency of trip route categories', fontsize=12)\n",
    "plt.xlabel('Duration', fontsize=12)\n",
    "plt.legend();"
   ]
  },
  {
   "cell_type": "markdown",
   "id": "42cfc468",
   "metadata": {},
   "source": [
    "Now we will look at some time series analysis.\n",
    "* To start, I split the time column into year, month, day of week and hour and append each to the end of the dataframe"
   ]
  },
  {
   "cell_type": "code",
   "execution_count": 28,
   "id": "4cc0b51b",
   "metadata": {},
   "outputs": [
    {
     "name": "stderr",
     "output_type": "stream",
     "text": [
      "C:\\Users\\sinea\\AppData\\Local\\Temp\\ipykernel_21144\\2915868742.py:1: SettingWithCopyWarning: \n",
      "A value is trying to be set on a copy of a slice from a DataFrame.\n",
      "Try using .loc[row_indexer,col_indexer] = value instead\n",
      "\n",
      "See the caveats in the documentation: https://pandas.pydata.org/pandas-docs/stable/user_guide/indexing.html#returning-a-view-versus-a-copy\n",
      "  df_metro['year'] = df_metro['start_time'].dt.year\n",
      "C:\\Users\\sinea\\AppData\\Local\\Temp\\ipykernel_21144\\2915868742.py:2: SettingWithCopyWarning: \n",
      "A value is trying to be set on a copy of a slice from a DataFrame.\n",
      "Try using .loc[row_indexer,col_indexer] = value instead\n",
      "\n",
      "See the caveats in the documentation: https://pandas.pydata.org/pandas-docs/stable/user_guide/indexing.html#returning-a-view-versus-a-copy\n",
      "  df_metro['month'] = df_metro['start_time'].dt.month\n",
      "C:\\Users\\sinea\\AppData\\Local\\Temp\\ipykernel_21144\\2915868742.py:3: SettingWithCopyWarning: \n",
      "A value is trying to be set on a copy of a slice from a DataFrame.\n",
      "Try using .loc[row_indexer,col_indexer] = value instead\n",
      "\n",
      "See the caveats in the documentation: https://pandas.pydata.org/pandas-docs/stable/user_guide/indexing.html#returning-a-view-versus-a-copy\n",
      "  df_metro['day'] = df_metro['start_time'].dt.day\n",
      "C:\\Users\\sinea\\AppData\\Local\\Temp\\ipykernel_21144\\2915868742.py:4: SettingWithCopyWarning: \n",
      "A value is trying to be set on a copy of a slice from a DataFrame.\n",
      "Try using .loc[row_indexer,col_indexer] = value instead\n",
      "\n",
      "See the caveats in the documentation: https://pandas.pydata.org/pandas-docs/stable/user_guide/indexing.html#returning-a-view-versus-a-copy\n",
      "  df_metro['day_of_week'] = df_metro['start_time'].dt.dayofweek\n",
      "C:\\Users\\sinea\\AppData\\Local\\Temp\\ipykernel_21144\\2915868742.py:5: SettingWithCopyWarning: \n",
      "A value is trying to be set on a copy of a slice from a DataFrame.\n",
      "Try using .loc[row_indexer,col_indexer] = value instead\n",
      "\n",
      "See the caveats in the documentation: https://pandas.pydata.org/pandas-docs/stable/user_guide/indexing.html#returning-a-view-versus-a-copy\n",
      "  df_metro['hour'] = df_metro['start_time'].dt.hour\n"
     ]
    }
   ],
   "source": [
    "df_metro['year'] = df_metro['start_time'].dt.year\n",
    "df_metro['month'] = df_metro['start_time'].dt.month\n",
    "df_metro['day'] = df_metro['start_time'].dt.day\n",
    "df_metro['day_of_week'] = df_metro['start_time'].dt.dayofweek\n",
    "df_metro['hour'] = df_metro['start_time'].dt.hour"
   ]
  },
  {
   "cell_type": "markdown",
   "id": "8c29123d",
   "metadata": {},
   "source": [
    "By grouping the number of rides by the day of the week they start on we see that Saturdays have the least number of rides and Tuesday have the most number of rides"
   ]
  },
  {
   "cell_type": "code",
   "execution_count": 29,
   "id": "22a27c1d",
   "metadata": {},
   "outputs": [
    {
     "data": {
      "text/html": [
       "<div>\n",
       "<style scoped>\n",
       "    .dataframe tbody tr th:only-of-type {\n",
       "        vertical-align: middle;\n",
       "    }\n",
       "\n",
       "    .dataframe tbody tr th {\n",
       "        vertical-align: top;\n",
       "    }\n",
       "\n",
       "    .dataframe thead th {\n",
       "        text-align: right;\n",
       "    }\n",
       "</style>\n",
       "<table border=\"1\" class=\"dataframe\">\n",
       "  <thead>\n",
       "    <tr style=\"text-align: right;\">\n",
       "      <th></th>\n",
       "      <th>number_of_rides</th>\n",
       "    </tr>\n",
       "    <tr>\n",
       "      <th>day_of_week</th>\n",
       "      <th></th>\n",
       "    </tr>\n",
       "  </thead>\n",
       "  <tbody>\n",
       "    <tr>\n",
       "      <th>0</th>\n",
       "      <td>13698</td>\n",
       "    </tr>\n",
       "    <tr>\n",
       "      <th>1</th>\n",
       "      <td>14077</td>\n",
       "    </tr>\n",
       "    <tr>\n",
       "      <th>2</th>\n",
       "      <td>13374</td>\n",
       "    </tr>\n",
       "    <tr>\n",
       "      <th>3</th>\n",
       "      <td>13667</td>\n",
       "    </tr>\n",
       "    <tr>\n",
       "      <th>4</th>\n",
       "      <td>13578</td>\n",
       "    </tr>\n",
       "    <tr>\n",
       "      <th>5</th>\n",
       "      <td>10896</td>\n",
       "    </tr>\n",
       "    <tr>\n",
       "      <th>6</th>\n",
       "      <td>11102</td>\n",
       "    </tr>\n",
       "  </tbody>\n",
       "</table>\n",
       "</div>"
      ],
      "text/plain": [
       "             number_of_rides\n",
       "day_of_week                 \n",
       "0                      13698\n",
       "1                      14077\n",
       "2                      13374\n",
       "3                      13667\n",
       "4                      13578\n",
       "5                      10896\n",
       "6                      11102"
      ]
     },
     "execution_count": 29,
     "metadata": {},
     "output_type": "execute_result"
    }
   ],
   "source": [
    "df_metro.groupby(['day_of_week']).agg(number_of_rides=('trip_route_category', 'count'))"
   ]
  },
  {
   "cell_type": "code",
   "execution_count": 30,
   "id": "1e439784",
   "metadata": {},
   "outputs": [
    {
     "data": {
      "text/plain": [
       "<AxesSubplot:xlabel='day_of_week'>"
      ]
     },
     "execution_count": 30,
     "metadata": {},
     "output_type": "execute_result"
    },
    {
     "data": {
      "image/png": "[encoded data removed]",
      "text/plain": [
       "<Figure size 576x432 with 1 Axes>"
      ]
     },
     "metadata": {
      "needs_background": "light"
     },
     "output_type": "display_data"
    }
   ],
   "source": [
    "df_metro.groupby(['day_of_week'])['duration'].count().plot.bar(figsize = (8, 6))"
   ]
  },
  {
   "cell_type": "markdown",
   "id": "69bcf3cd",
   "metadata": {},
   "source": [
    "In a similar way we can look at the number of trips but using their starting hour instead\n",
    "\n",
    "We see that, as you would expect, there are very few trips at night especially between 1 and 5 am, and most trips start in the 17th hour which makes sense as people will probably use the bikes to go home after work."
   ]
  },
  {
   "cell_type": "code",
   "execution_count": 31,
   "id": "781289ee",
   "metadata": {},
   "outputs": [
    {
     "data": {
      "text/plain": [
       "<AxesSubplot:xlabel='hour'>"
      ]
     },
     "execution_count": 31,
     "metadata": {},
     "output_type": "execute_result"
    },
    {
     "data": {
      "image/png": "[encoded data removed]",
      "text/plain": [
       "<Figure size 576x432 with 1 Axes>"
      ]
     },
     "metadata": {
      "needs_background": "light"
     },
     "output_type": "display_data"
    }
   ],
   "source": [
    "df_metro.groupby(['hour'])['duration'].count().plot.bar(figsize = (8, 6))"
   ]
  },
  {
   "cell_type": "markdown",
   "id": "de8a86dc",
   "metadata": {},
   "source": [
    "The below histogram shows us that there is an increase in bike rides up until around the third week of august (which is peak of summer so makes sense as more people will be out in the sun), then there appears to be a steady decrease in rides from there but would need a longer period of data to see if this relationship with the seasons is true."
   ]
  },
  {
   "cell_type": "code",
   "execution_count": 33,
   "id": "9bcfd284",
   "metadata": {},
   "outputs": [
    {
     "data": {
      "image/png": "[encoded data removed]",
      "text/plain": [
       "<Figure size 864x360 with 1 Axes>"
      ]
     },
     "metadata": {
      "needs_background": "light"
     },
     "output_type": "display_data"
    }
   ],
   "source": [
    "df_metro['start_time'].hist(figsize=(12,5), bins=12);"
   ]
  },
  {
   "cell_type": "markdown",
   "id": "e98b0bed",
   "metadata": {},
   "source": [
    "Next, I want to look at the distance travelled for the trips\n",
    "* to find the distance between two geo coordinates, the haversine distance formula will need to be used (https://en.wikipedia.org/wiki/Haversine_formula)\n",
    "* I opt for a formula that calculates row by row of a dataframe (idea from https://stackoverflow.com/questions/29545704/fast-haversine-approximation-python-pandas)\n",
    "* I will use an estimate for the radius of earth at 6378 km (https://imagine.gsfc.nasa.gov/features/cosmic/earth_info.html)"
   ]
  },
  {
   "cell_type": "code",
   "execution_count": 34,
   "id": "be05139e",
   "metadata": {},
   "outputs": [],
   "source": [
    "def haversine_distance(geo):\n",
    "    dlon = np.radians(geo[2]) - np.radians(geo[0])\n",
    "    dlat = np.radians(geo[3]) - np.radians(geo[1]) \n",
    "    a = np.sin(dlat / 2)**2 + np.cos(np.radians(geo[1])) * np.cos(np.radians(geo[3])) * np.sin(dlon / 2)**2\n",
    "    c = 2 * np.arctan2(np.sqrt(a), np.sqrt(1 - a))\n",
    "    return 6378 * c"
   ]
  },
  {
   "cell_type": "code",
   "execution_count": 35,
   "id": "e282219f",
   "metadata": {},
   "outputs": [
    {
     "name": "stderr",
     "output_type": "stream",
     "text": [
      "C:\\Users\\sinea\\AppData\\Local\\Temp\\ipykernel_21144\\4000508015.py:1: SettingWithCopyWarning: \n",
      "A value is trying to be set on a copy of a slice from a DataFrame.\n",
      "Try using .loc[row_indexer,col_indexer] = value instead\n",
      "\n",
      "See the caveats in the documentation: https://pandas.pydata.org/pandas-docs/stable/user_guide/indexing.html#returning-a-view-versus-a-copy\n",
      "  df_metro['distance'] = df_metro[['start_lon', 'start_lat', 'end_lon', 'end_lat']].apply(haversine_distance, axis=1)\n"
     ]
    }
   ],
   "source": [
    "df_metro['distance'] = df_metro[['start_lon', 'start_lat', 'end_lon', 'end_lat']].apply(haversine_distance, axis=1)"
   ]
  },
  {
   "cell_type": "markdown",
   "id": "162f4ecf",
   "metadata": {},
   "source": [
    "If we plot distance against duration the resultant graphs gradient will show the speed. Average speed seems to be around 1km/5mins (very rough estimate taken off graph)"
   ]
  },
  {
   "cell_type": "code",
   "execution_count": 36,
   "id": "f99757c9",
   "metadata": {},
   "outputs": [
    {
     "name": "stderr",
     "output_type": "stream",
     "text": [
      "C:\\Users\\sinea\\anaconda3\\lib\\site-packages\\seaborn\\axisgrid.py:2182: UserWarning: The `size` parameter has been renamed to `height`; please update your code.\n",
      "  warnings.warn(msg, UserWarning)\n"
     ]
    },
    {
     "data": {
      "image/png": "[encoded data removed]",
      "text/plain": [
       "<Figure size 504x504 with 3 Axes>"
      ]
     },
     "metadata": {
      "needs_background": "light"
     },
     "output_type": "display_data"
    }
   ],
   "source": [
    "sns.jointplot(x=df_metro['distance'],\n",
    "              y=df_metro['duration'], kind='hex', size = 7, color='pink', \n",
    "              joint_kws=dict(gridsize=200), xlim=(0, 5), ylim=(0, 30));"
   ]
  },
  {
   "cell_type": "markdown",
   "id": "edcf5b82",
   "metadata": {},
   "source": [
    "The summary statistics of the distance show us that the maximum journey lenght was 37.6km, and the mean is 1.8km. This is inline with the statistics of the duration of journeys where most were very short but few journeys were long. It has the same skew."
   ]
  },
  {
   "cell_type": "code",
   "execution_count": 37,
   "id": "5c743da2",
   "metadata": {},
   "outputs": [
    {
     "data": {
      "text/plain": [
       "count    90392.000000\n",
       "mean         1.852998\n",
       "std          3.732385\n",
       "min          0.000000\n",
       "25%          0.445607\n",
       "50%          0.900228\n",
       "75%          1.751646\n",
       "max         37.649388\n",
       "Name: distance, dtype: float64"
      ]
     },
     "execution_count": 37,
     "metadata": {},
     "output_type": "execute_result"
    }
   ],
   "source": [
    "df_metro['distance'].describe()"
   ]
  },
  {
   "cell_type": "code",
   "execution_count": null,
   "id": "b2972da1",
   "metadata": {},
   "outputs": [],
   "source": []
  }
 ],
 "metadata": {
  "kernelspec": {
   "display_name": "Python 3 (ipykernel)",
   "language": "python",
   "name": "python3"
  },
  "language_info": {
   "codemirror_mode": {
    "name": "ipython",
    "version": 3
   },
   "file_extension": ".py",
   "mimetype": "text/x-python",
   "name": "python",
   "nbconvert_exporter": "python",
   "pygments_lexer": "ipython3",
   "version": "3.9.12"
  }
 },
 "nbformat": 4,
 "nbformat_minor": 5
}
