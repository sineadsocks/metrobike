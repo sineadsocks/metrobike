  {
   "cell_type": "markdown",
   "id": "2215d26c",
   "metadata": {},
   "source": [
    "**Start by importing pakages that will be used in all three tasks**"
   ]
  },
  {
   "cell_type": "code",
   "execution_count": 18,
   "id": "0987e163",
   "metadata": {},
   "outputs": [],
   "source": [
    "#For use in all 3 tasks\n",
    "import numpy as np\n",
    "import pandas as pd\n",
    "import matplotlib.pyplot as plt\n",
    "import seaborn as sns\n",
    "\n",
    "#For use in EDA\n",
    "from sklearn.preprocessing import OneHotEncoder, LabelEncoder\n",
    "\n",
    "#For use in clustering\n",
    "from sklearn.cluster import KMeans\n",
    "from sklearn.preprocessing import StandardScaler\n",
    "from clustering_utils import plot_kmeans\n",
    "from sklearn.metrics import silhouette_score\n",
    "from sklearn.mixture import GaussianMixture as GMM\n",
    "from sklearn.decomposition import PCA #(https://scikit-learn.org/stable/modules/generated/sklearn.decomposition.PCA.html)\n",
    "from clustering_utils import generate_2d_gmm\n",
    "\n",
    "\n",
    "#For use in networks\n",
    "import networkx as nx\n",
    "import scipy.stats"
   ]
  },
  {
   "cell_type": "code",
   "execution_count": 4,
   "id": "4d312ca0",
   "metadata": {},
   "outputs": [],
   "source": [
    "import warnings\n",
    "\n",
    "warnings.filterwarnings('ignore')"
   ]
  },
  {
   "cell_type": "markdown",
   "id": "4bfe6643",
   "metadata": {},
   "source": [
    "## Task 1 - Bicycle Journeys: Exploratory Data Analysis"
   ]
  },
  {
   "cell_type": "markdown",
   "id": "a6a72eeb",
   "metadata": {},
   "source": [
    "Using pandas read_csv, the dataset is read into a dataframe. The data types that pandas has chosen are then discovered using dtypes\n",
    "\n",
    "Some of the columns are the wrong data type so they are changed accordingly\n",
    "* the start/end time columns are changed to datetime\n",
    "* the start/end station columns are changed to object"
   ]
  },
  {
   "cell_type": "code",
   "execution_count": 5,
   "id": "268eab7f",
   "metadata": {},
   "outputs": [
    {
     "data": {
      "text/html": [
       "<div>\n",
       "<style scoped>\n",
       "    .dataframe tbody tr th:only-of-type {\n",
       "        vertical-align: middle;\n",
       "    }\n",
       "\n",
       "    .dataframe tbody tr th {\n",
       "        vertical-align: top;\n",
       "    }\n",
       "\n",
       "    .dataframe thead th {\n",
       "        text-align: right;\n",
       "    }\n",
       "</style>\n",
       "<table border=\"1\" class=\"dataframe\">\n",
       "  <thead>\n",
       "    <tr style=\"text-align: right;\">\n",
       "      <th></th>\n",
       "      <th>trip_id</th>\n",
       "      <th>duration</th>\n",
       "      <th>start_time</th>\n",
       "      <th>end_time</th>\n",
       "      <th>start_station</th>\n",
       "      <th>start_lat</th>\n",
       "      <th>start_lon</th>\n",
       "      <th>end_station</th>\n",
       "      <th>end_lat</th>\n",
       "      <th>end_lon</th>\n",
       "      <th>bike_id</th>\n",
       "      <th>plan_duration</th>\n",
       "      <th>trip_route_category</th>\n",
       "      <th>passholder_type</th>\n",
       "      <th>bike_type</th>\n",
       "    </tr>\n",
       "  </thead>\n",
       "  <tbody>\n",
       "    <tr>\n",
       "      <th>0</th>\n",
       "      <td>124657107</td>\n",
       "      <td>5</td>\n",
       "      <td>07/01/2019 00:04</td>\n",
       "      <td>07/01/2019 00:09</td>\n",
       "      <td>4312</td>\n",
       "      <td>34.066990</td>\n",
       "      <td>-118.290878</td>\n",
       "      <td>4410</td>\n",
       "      <td>34.063351</td>\n",
       "      <td>-118.296799</td>\n",
       "      <td>6168</td>\n",
       "      <td>30</td>\n",
       "      <td>One Way</td>\n",
       "      <td>Monthly Pass</td>\n",
       "      <td>standard</td>\n",
       "    </tr>\n",
       "    <tr>\n",
       "      <th>1</th>\n",
       "      <td>124657587</td>\n",
       "      <td>9</td>\n",
       "      <td>07/01/2019 00:07</td>\n",
       "      <td>07/01/2019 00:16</td>\n",
       "      <td>3066</td>\n",
       "      <td>34.063389</td>\n",
       "      <td>-118.236160</td>\n",
       "      <td>3066</td>\n",
       "      <td>34.063389</td>\n",
       "      <td>-118.236160</td>\n",
       "      <td>17584</td>\n",
       "      <td>30</td>\n",
       "      <td>Round Trip</td>\n",
       "      <td>Monthly Pass</td>\n",
       "      <td>electric</td>\n",
       "    </tr>\n",
       "    <tr>\n",
       "      <th>2</th>\n",
       "      <td>124658068</td>\n",
       "      <td>5</td>\n",
       "      <td>07/01/2019 00:20</td>\n",
       "      <td>07/01/2019 00:25</td>\n",
       "      <td>4410</td>\n",
       "      <td>34.063351</td>\n",
       "      <td>-118.296799</td>\n",
       "      <td>4312</td>\n",
       "      <td>34.066990</td>\n",
       "      <td>-118.290878</td>\n",
       "      <td>18920</td>\n",
       "      <td>30</td>\n",
       "      <td>One Way</td>\n",
       "      <td>Monthly Pass</td>\n",
       "      <td>electric</td>\n",
       "    </tr>\n",
       "    <tr>\n",
       "      <th>3</th>\n",
       "      <td>124659747</td>\n",
       "      <td>20</td>\n",
       "      <td>07/01/2019 00:44</td>\n",
       "      <td>07/01/2019 01:04</td>\n",
       "      <td>3045</td>\n",
       "      <td>34.028511</td>\n",
       "      <td>-118.256668</td>\n",
       "      <td>4275</td>\n",
       "      <td>34.012520</td>\n",
       "      <td>-118.285896</td>\n",
       "      <td>6016</td>\n",
       "      <td>1</td>\n",
       "      <td>One Way</td>\n",
       "      <td>Walk-up</td>\n",
       "      <td>standard</td>\n",
       "    </tr>\n",
       "    <tr>\n",
       "      <th>4</th>\n",
       "      <td>124660227</td>\n",
       "      <td>27</td>\n",
       "      <td>07/01/2019 00:44</td>\n",
       "      <td>07/01/2019 01:11</td>\n",
       "      <td>3035</td>\n",
       "      <td>34.048401</td>\n",
       "      <td>-118.260948</td>\n",
       "      <td>3049</td>\n",
       "      <td>34.056969</td>\n",
       "      <td>-118.253593</td>\n",
       "      <td>5867</td>\n",
       "      <td>30</td>\n",
       "      <td>One Way</td>\n",
       "      <td>Monthly Pass</td>\n",
       "      <td>standard</td>\n",
       "    </tr>\n",
       "  </tbody>\n",
       "</table>\n",
       "</div>"
      ],
      "text/plain": [
       "     trip_id  duration        start_time          end_time  start_station  \\\n",
       "0  124657107         5  07/01/2019 00:04  07/01/2019 00:09           4312   \n",
       "1  124657587         9  07/01/2019 00:07  07/01/2019 00:16           3066   \n",
       "2  124658068         5  07/01/2019 00:20  07/01/2019 00:25           4410   \n",
       "3  124659747        20  07/01/2019 00:44  07/01/2019 01:04           3045   \n",
       "4  124660227        27  07/01/2019 00:44  07/01/2019 01:11           3035   \n",
       "\n",
       "   start_lat   start_lon  end_station    end_lat     end_lon bike_id  \\\n",
       "0  34.066990 -118.290878         4410  34.063351 -118.296799    6168   \n",
       "1  34.063389 -118.236160         3066  34.063389 -118.236160   17584   \n",
       "2  34.063351 -118.296799         4312  34.066990 -118.290878   18920   \n",
       "3  34.028511 -118.256668         4275  34.012520 -118.285896    6016   \n",
       "4  34.048401 -118.260948         3049  34.056969 -118.253593    5867   \n",
       "\n",
       "   plan_duration trip_route_category passholder_type bike_type  \n",
       "0             30             One Way    Monthly Pass  standard  \n",
       "1             30          Round Trip    Monthly Pass  electric  \n",
       "2             30             One Way    Monthly Pass  electric  \n",
       "3              1             One Way         Walk-up  standard  \n",
       "4             30             One Way    Monthly Pass  standard  "
      ]
     },
     "execution_count": 5,
     "metadata": {},
     "output_type": "execute_result"
    }
   ],
   "source": [
    "df_metro = pd.read_csv('metro.csv')\n",
    "df_metro.head()"
   ]
  },
  {
   "cell_type": "code",
   "execution_count": 6,
   "id": "9161fde8",
   "metadata": {},
   "outputs": [
    {
     "data": {
      "text/plain": [
       "trip_id                  int64\n",
       "duration                 int64\n",
       "start_time              object\n",
       "end_time                object\n",
       "start_station            int64\n",
       "start_lat              float64\n",
       "start_lon              float64\n",
       "end_station              int64\n",
       "end_lat                float64\n",
       "end_lon                float64\n",
       "bike_id                 object\n",
       "plan_duration            int64\n",
       "trip_route_category     object\n",
       "passholder_type         object\n",
       "bike_type               object\n",
       "dtype: object"
      ]
     },
     "execution_count": 6,
     "metadata": {},
     "output_type": "execute_result"
    }
   ],
   "source": [
    "df_metro.dtypes"
   ]
  },
  {
   "cell_type": "code",
   "execution_count": 7,
   "id": "2193b92a",
   "metadata": {},
   "outputs": [],
   "source": [
    "df_metro['start_time'] = pd.to_datetime(df_metro['start_time'])\n",
    "df_metro['end_time'] = pd.to_datetime(df_metro['end_time'])\n",
    "\n",
    "df_metro['start_station'] = df_metro['start_station'].astype(object)\n",
    "df_metro['end_station'] = df_metro['end_station'].astype(object)"
   ]
  },
  {
   "cell_type": "markdown",
   "id": "eaed2c80",
   "metadata": {},
   "source": [
    "To see summary statistics of the dataset before preprocessing, the describe function is used. \n",
    "\n",
    "To see the shape of the dataframe, shape is used.\n",
    "\n",
    "There are 92124 samples and 15 features.\n",
    "\n",
    "Some interesting initial findings are:\n",
    "* the start_lat/lon and end_lat/lon columns have less rows than the other rows \n",
    "* the start_station and end_station means are different, inferring that people end their trips in different stations than where they start, on average\n",
    "\n",
    "* the maximum trip length is 999 minutes which is 16.65 hours - could be an anomonly \n",
    "    * seems even more likely to be anomaly as 75% of the data is less than half an hour\n",
    "* The minimum trip length is 1 minute, as well as 25% of the data, which also seems incorrect\n",
    "    * This could be due to customers quickly putting their bike back as soon as they got, or technical errors"
   ]
  },
  {
   "cell_type": "code",
   "execution_count": 6,
   "id": "0b1312fe",
   "metadata": {},
   "outputs": [
    {
     "name": "stdout",
     "output_type": "stream",
     "text": [
      "(92124, 15)\n"
     ]
    },
    {
     "data": {
      "text/html": [
       "<div>\n",
       "<style scoped>\n",
       "    .dataframe tbody tr th:only-of-type {\n",
       "        vertical-align: middle;\n",
       "    }\n",
       "\n",
       "    .dataframe tbody tr th {\n",
       "        vertical-align: top;\n",
       "    }\n",
       "\n",
       "    .dataframe thead th {\n",
       "        text-align: right;\n",
       "    }\n",
       "</style>\n",
       "<table border=\"1\" class=\"dataframe\">\n",
       "  <thead>\n",
       "    <tr style=\"text-align: right;\">\n",
       "      <th></th>\n",
       "      <th>trip_id</th>\n",
       "      <th>duration</th>\n",
       "      <th>start_lat</th>\n",
       "      <th>start_lon</th>\n",
       "      <th>end_lat</th>\n",
       "      <th>end_lon</th>\n",
       "      <th>plan_duration</th>\n",
       "    </tr>\n",
       "  </thead>\n",
       "  <tbody>\n",
       "    <tr>\n",
       "      <th>count</th>\n",
       "      <td>9.212400e+04</td>\n",
       "      <td>92124.000000</td>\n",
       "      <td>89985.000000</td>\n",
       "      <td>89985.000000</td>\n",
       "      <td>88052.000000</td>\n",
       "      <td>88052.000000</td>\n",
       "      <td>92124.000000</td>\n",
       "    </tr>\n",
       "    <tr>\n",
       "      <th>mean</th>\n",
       "      <td>1.274286e+08</td>\n",
       "      <td>33.168588</td>\n",
       "      <td>34.034786</td>\n",
       "      <td>-118.287893</td>\n",
       "      <td>34.034895</td>\n",
       "      <td>-118.286699</td>\n",
       "      <td>60.290977</td>\n",
       "    </tr>\n",
       "    <tr>\n",
       "      <th>std</th>\n",
       "      <td>1.524134e+06</td>\n",
       "      <td>129.057841</td>\n",
       "      <td>0.058803</td>\n",
       "      <td>0.073501</td>\n",
       "      <td>0.058790</td>\n",
       "      <td>0.072628</td>\n",
       "      <td>111.141364</td>\n",
       "    </tr>\n",
       "    <tr>\n",
       "      <th>min</th>\n",
       "      <td>1.246571e+08</td>\n",
       "      <td>1.000000</td>\n",
       "      <td>33.710979</td>\n",
       "      <td>-118.495422</td>\n",
       "      <td>33.710979</td>\n",
       "      <td>-118.495422</td>\n",
       "      <td>1.000000</td>\n",
       "    </tr>\n",
       "    <tr>\n",
       "      <th>25%</th>\n",
       "      <td>1.261375e+08</td>\n",
       "      <td>6.000000</td>\n",
       "      <td>34.035801</td>\n",
       "      <td>-118.281181</td>\n",
       "      <td>34.037048</td>\n",
       "      <td>-118.280952</td>\n",
       "      <td>1.000000</td>\n",
       "    </tr>\n",
       "    <tr>\n",
       "      <th>50%</th>\n",
       "      <td>1.274911e+08</td>\n",
       "      <td>12.000000</td>\n",
       "      <td>34.046810</td>\n",
       "      <td>-118.258537</td>\n",
       "      <td>34.046810</td>\n",
       "      <td>-118.258537</td>\n",
       "      <td>30.000000</td>\n",
       "    </tr>\n",
       "    <tr>\n",
       "      <th>75%</th>\n",
       "      <td>1.287379e+08</td>\n",
       "      <td>22.000000</td>\n",
       "      <td>34.051941</td>\n",
       "      <td>-118.248253</td>\n",
       "      <td>34.051941</td>\n",
       "      <td>-118.248253</td>\n",
       "      <td>30.000000</td>\n",
       "    </tr>\n",
       "    <tr>\n",
       "      <th>max</th>\n",
       "      <td>1.303877e+08</td>\n",
       "      <td>1440.000000</td>\n",
       "      <td>34.177662</td>\n",
       "      <td>-118.231277</td>\n",
       "      <td>34.177662</td>\n",
       "      <td>-118.231277</td>\n",
       "      <td>999.000000</td>\n",
       "    </tr>\n",
       "  </tbody>\n",
       "</table>\n",
       "</div>"
      ],
      "text/plain": [
       "            trip_id      duration     start_lat     start_lon       end_lat  \\\n",
       "count  9.212400e+04  92124.000000  89985.000000  89985.000000  88052.000000   \n",
       "mean   1.274286e+08     33.168588     34.034786   -118.287893     34.034895   \n",
       "std    1.524134e+06    129.057841      0.058803      0.073501      0.058790   \n",
       "min    1.246571e+08      1.000000     33.710979   -118.495422     33.710979   \n",
       "25%    1.261375e+08      6.000000     34.035801   -118.281181     34.037048   \n",
       "50%    1.274911e+08     12.000000     34.046810   -118.258537     34.046810   \n",
       "75%    1.287379e+08     22.000000     34.051941   -118.248253     34.051941   \n",
       "max    1.303877e+08   1440.000000     34.177662   -118.231277     34.177662   \n",
       "\n",
       "            end_lon  plan_duration  \n",
       "count  88052.000000   92124.000000  \n",
       "mean    -118.286699      60.290977  \n",
       "std        0.072628     111.141364  \n",
       "min     -118.495422       1.000000  \n",
       "25%     -118.280952       1.000000  \n",
       "50%     -118.258537      30.000000  \n",
       "75%     -118.248253      30.000000  \n",
       "max     -118.231277     999.000000  "
      ]
     },
     "execution_count": 6,
     "metadata": {},
     "output_type": "execute_result"
    }
   ],
   "source": [
    "print(df_metro.shape)\n",
    "df_metro.describe()"
   ]
  },
  {
   "cell_type": "markdown",
   "id": "ffcdd160",
   "metadata": {},
   "source": [
    "Trip_id isn't useful for analysis so the column is dropped"
   ]
  },
  {
   "cell_type": "code",
   "execution_count": 7,
   "id": "ccc1d5b5",
   "metadata": {},
   "outputs": [],
   "source": [
    "df_metro = df_metro.drop('trip_id', axis=1)"
   ]
  },
  {
   "cell_type": "markdown",
   "id": "59c7c442",
   "metadata": {},
   "source": [
    "Next, I want to find out whether the dataset has duplicate rows and/or missing values.\n",
    "\n",
    "We discover that there are no duplicates, however there are missing values in the start_lat/lon and end_lat/lon columns which explains the lower number of counts from above."
   ]
  },
  {
   "cell_type": "code",
   "execution_count": 8,
   "id": "b13c25fe",
   "metadata": {},
   "outputs": [
    {
     "data": {
      "text/plain": [
       "0"
      ]
     },
     "execution_count": 8,
     "metadata": {},
     "output_type": "execute_result"
    }
   ],
   "source": [
    "df_metro.duplicated().sum()"
   ]
  },
  {
   "cell_type": "code",
   "execution_count": 8,
   "id": "dd7312da",
   "metadata": {},
   "outputs": [
    {
     "data": {
      "text/plain": [
       "trip_id                   0\n",
       "duration                  0\n",
       "start_time                0\n",
       "end_time                  0\n",
       "start_station             0\n",
       "start_lat              2139\n",
       "start_lon              2139\n",
       "end_station               0\n",
       "end_lat                4072\n",
       "end_lon                4072\n",
       "bike_id                   0\n",
       "plan_duration             0\n",
       "trip_route_category       0\n",
       "passholder_type           0\n",
       "bike_type                 0\n",
       "dtype: int64"
      ]
     },
     "execution_count": 8,
     "metadata": {},
     "output_type": "execute_result"
    }
   ],
   "source": [
    "df_metro.isnull().sum()"
   ]
  },
  {
   "cell_type": "markdown",
   "id": "295edcdb",
   "metadata": {},
   "source": [
    "There are a few thousand missing values. To deal with them I opted to fill in the values with the mode. \n",
    "* I didn't want to delete the rows because I want the most data I can get, but I didn't want to fill in with mean as the columns with missing values represent locations so I felt using the mode to fill in these was a good representation of an actual location"
   ]
  },
  {
   "cell_type": "code",
   "execution_count": 9,
   "id": "6062d754",
   "metadata": {},
   "outputs": [],
   "source": [
    "df_metro['start_lat'].fillna(df_metro['start_lat'].mode()[0], inplace=True)\n",
    "df_metro['start_lon'].fillna(df_metro['start_lon'].mode()[0], inplace=True)\n",
    "df_metro['end_lat'].fillna(df_metro['end_lat'].mode()[0], inplace=True)\n",
    "df_metro['end_lon'].fillna(df_metro['end_lon'].mode()[0], inplace=True)"
   ]
  },
  {
   "cell_type": "markdown",
   "id": "1c38d60f",
   "metadata": {},
   "source": [
    "Next, I look to see what the unique values in columns with categories are and use bar charts to visualise the counts of these categories easily."
   ]
  },
  {
   "cell_type": "code",
   "execution_count": 11,
   "id": "45a98eb0",
   "metadata": {},
   "outputs": [
    {
     "name": "stdout",
     "output_type": "stream",
     "text": [
      "Trip route type: ['One Way' 'Round Trip']\n",
      "Passholder types: ['Monthly Pass' 'Walk-up' 'Annual Pass' 'One Day Pass' 'Flex Pass'\n",
      " 'Testing']\n",
      "Bike types: ['standard' 'electric' 'smart']\n"
     ]
    }
   ],
   "source": [
    "trips = df_metro['trip_route_category'].unique()\n",
    "passholders = df_metro['passholder_type'].unique()\n",
    "bikes = df_metro['bike_type'].unique()\n",
    "\n",
    "print(f'Trip route type: {trips}')   \n",
    "print(f'Passholder types: {passholders}')  \n",
    "print(f'Bike types: {bikes}')      "
   ]
  },
  {
   "cell_type": "markdown",
   "id": "8d6dff4c",
   "metadata": {},
   "source": [
    "There are 2 trip routes - one way or round trip - and they have a large class imbalance. The one way trip has 76.7K entries, whereas a round trip only has 15.3k entries."
   ]
  },
  {
   "cell_type": "code",
   "execution_count": 12,
   "id": "5372fedb",
   "metadata": {},
   "outputs": [
    {
     "data": {
      "image/png": "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\n",
      "text/plain": [
       "<Figure size 360x360 with 1 Axes>"
      ]
     },
     "metadata": {
      "needs_background": "light"
     },
     "output_type": "display_data"
    },
    {
     "data": {
      "text/plain": [
       "<Figure size 720x504 with 0 Axes>"
      ]
     },
     "metadata": {},
     "output_type": "display_data"
    }
   ],
   "source": [
    "trip_plot = sns.catplot(data= df_metro, x= 'trip_route_category', kind='count', palette=\"husl\");\n",
    "plt.figure(figsize=(10, 7))\n",
    "\n",
    "for ax in trip_plot.axes.ravel():\n",
    "    for n in ax.containers:\n",
    "        labels = [f'{(v.get_height()):.0f}' for v in n]\n",
    "        ax.bar_label(n, labels=labels, label_type='edge')\n",
    "\n",
    "plt.show();"
   ]
  },
  {
   "cell_type": "markdown",
   "id": "be9befb6",
   "metadata": {},
   "source": [
    "There are 6 types of passholders, the most popular one being the monthly pass with 57.1k, which is followed by walk-up passes at 23.5k.\n",
    "The smallest category of passholders is the flex pass which has only 6 trips."
   ]
  },
  {
   "cell_type": "code",
   "execution_count": 13,
   "id": "0f58dba9",
   "metadata": {},
   "outputs": [
    {
     "data": {
      "image/png": "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\n",
      "text/plain": [
       "<Figure size 360x360 with 1 Axes>"
      ]
     },
     "metadata": {
      "needs_background": "light"
     },
     "output_type": "display_data"
    },
    {
     "data": {
      "text/plain": [
       "<Figure size 1080x504 with 0 Axes>"
      ]
     },
     "metadata": {},
     "output_type": "display_data"
    }
   ],
   "source": [
    "pass_plot = sns.catplot(data=df_metro, y='passholder_type', kind='count', palette=\"husl\");\n",
    "plt.figure(figsize=(15, 7))\n",
    "\n",
    "for ax in pass_plot.axes.ravel():\n",
    "    for n in ax.containers:\n",
    "        labels = [f'{(v.get_width()):.0f}' for v in n]\n",
    "        ax.bar_label(n, labels=labels)\n",
    "\n",
    "plt.show()"
   ]
  },
  {
   "cell_type": "markdown",
   "id": "2af8d584",
   "metadata": {},
   "source": [
    "The majority of bikes were electric (50.42%), followed by standard bikes with just under a third of trips, and finally smart bikes accounted for 17.59% of the trips.\n",
    "The bike types are imbalanced as a result."
   ]
  },
  {
   "cell_type": "code",
   "execution_count": 14,
   "id": "cd9d12c7",
   "metadata": {},
   "outputs": [
    {
     "data": {
      "image/png": "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\n",
      "text/plain": [
       "<Figure size 432x432 with 1 Axes>"
      ]
     },
     "metadata": {},
     "output_type": "display_data"
    }
   ],
   "source": [
    "df_metro.groupby('bike_type').size().plot(kind='pie', autopct = lambda a:f'{a:.2f}%', ylabel=\"Bike Types\", colormap=\"Set1\", figsize=(6,6));"
   ]
  },
  {
   "cell_type": "markdown",
   "id": "86ff1a3f",
   "metadata": {},
   "source": [
    "Now we find the mean duration of each passholder type in minutes.\n",
    "\n",
    "The highest mean was for a one day pass which shows the average trip was 79 minutes.\n",
    "The lowest mean was for flex pass which shows the average trip as 7 minutes.\n",
    "\n",
    "This is probably because if you are paying for one day you want to make the most of the bike and are probably paying for a specific trip, but with a flex pass it implies a more flexible approach so you most likely paid for the bike for more than a day and don't have that level of committment as with a day pass."
   ]
  },
  {
   "cell_type": "code",
   "execution_count": 15,
   "id": "9139b6c4",
   "metadata": {},
   "outputs": [
    {
     "data": {
      "text/plain": [
       "passholder_type\n",
       "Annual Pass     15.664148\n",
       "Flex Pass        7.333333\n",
       "Monthly Pass    15.854919\n",
       "One Day Pass    79.548599\n",
       "Testing         29.608696\n",
       "Walk-up         69.722449\n",
       "Name: duration, dtype: float64"
      ]
     },
     "execution_count": 15,
     "metadata": {},
     "output_type": "execute_result"
    }
   ],
   "source": [
    "df_metro.groupby(['passholder_type'])['duration'].mean()"
   ]
  },
  {
   "cell_type": "markdown",
   "id": "85188fb7",
   "metadata": {},
   "source": [
    "Using crosstab, a table of passholder type by bike type was created, and subsequently used to create a barplot\n",
    "* From the barplot we can see that most monthly passes come from people with electric bikes\n",
    "* smart bikes have barely any annual pass holders, but the most one day passes\n",
    "* standard bikes seems to have the most walk-up passes"
   ]
  },
  {
   "cell_type": "code",
   "execution_count": 16,
   "id": "96309e7d",
   "metadata": {},
   "outputs": [
    {
     "data": {
      "text/html": [
       "<div>\n",
       "<style scoped>\n",
       "    .dataframe tbody tr th:only-of-type {\n",
       "        vertical-align: middle;\n",
       "    }\n",
       "\n",
       "    .dataframe tbody tr th {\n",
       "        vertical-align: top;\n",
       "    }\n",
       "\n",
       "    .dataframe thead th {\n",
       "        text-align: right;\n",
       "    }\n",
       "</style>\n",
       "<table border=\"1\" class=\"dataframe\">\n",
       "  <thead>\n",
       "    <tr style=\"text-align: right;\">\n",
       "      <th>passholder_type</th>\n",
       "      <th>Annual Pass</th>\n",
       "      <th>Flex Pass</th>\n",
       "      <th>Monthly Pass</th>\n",
       "      <th>One Day Pass</th>\n",
       "      <th>Testing</th>\n",
       "      <th>Walk-up</th>\n",
       "    </tr>\n",
       "    <tr>\n",
       "      <th>bike_type</th>\n",
       "      <th></th>\n",
       "      <th></th>\n",
       "      <th></th>\n",
       "      <th></th>\n",
       "      <th></th>\n",
       "      <th></th>\n",
       "    </tr>\n",
       "  </thead>\n",
       "  <tbody>\n",
       "    <tr>\n",
       "      <th>electric</th>\n",
       "      <td>3467</td>\n",
       "      <td>2</td>\n",
       "      <td>35556</td>\n",
       "      <td>1047</td>\n",
       "      <td>0</td>\n",
       "      <td>6374</td>\n",
       "    </tr>\n",
       "    <tr>\n",
       "      <th>smart</th>\n",
       "      <td>278</td>\n",
       "      <td>0</td>\n",
       "      <td>4656</td>\n",
       "      <td>3165</td>\n",
       "      <td>46</td>\n",
       "      <td>8056</td>\n",
       "    </tr>\n",
       "    <tr>\n",
       "      <th>standard</th>\n",
       "      <td>2475</td>\n",
       "      <td>4</td>\n",
       "      <td>16963</td>\n",
       "      <td>963</td>\n",
       "      <td>0</td>\n",
       "      <td>9072</td>\n",
       "    </tr>\n",
       "  </tbody>\n",
       "</table>\n",
       "</div>"
      ],
      "text/plain": [
       "passholder_type  Annual Pass  Flex Pass  Monthly Pass  One Day Pass  Testing  \\\n",
       "bike_type                                                                      \n",
       "electric                3467          2         35556          1047        0   \n",
       "smart                    278          0          4656          3165       46   \n",
       "standard                2475          4         16963           963        0   \n",
       "\n",
       "passholder_type  Walk-up  \n",
       "bike_type                 \n",
       "electric            6374  \n",
       "smart               8056  \n",
       "standard            9072  "
      ]
     },
     "execution_count": 16,
     "metadata": {},
     "output_type": "execute_result"
    }
   ],
   "source": [
    "pd.crosstab(df_metro['bike_type'], df_metro['passholder_type'])    #find counts of crosstabulation of bike type and passholder type"
   ]
  },
  {
   "cell_type": "code",
   "execution_count": 17,
   "id": "a25aab42",
   "metadata": {},
   "outputs": [
    {
     "data": {
      "image/png": "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\n",
      "text/plain": [
       "<Figure size 432x288 with 1 Axes>"
      ]
     },
     "metadata": {
      "needs_background": "light"
     },
     "output_type": "display_data"
    }
   ],
   "source": [
    "pd.crosstab(df_metro['bike_type'], df_metro['passholder_type']).plot.bar();"
   ]
  },
  {
   "cell_type": "markdown",
   "id": "187a8976",
   "metadata": {},
   "source": [
    "**Determining the shortest and longest trips and when they occur:**\n",
    "* The longest trip being 1440 minutes seems like an outlier\n",
    "* We can see this more clearly by plotting a histogram and see there are no trips near the 1440 trip\n",
    "* The data is very positively skewed"
   ]
  },
  {
   "cell_type": "code",
   "execution_count": 18,
   "id": "13f6addf",
   "metadata": {},
   "outputs": [
    {
     "name": "stdout",
     "output_type": "stream",
     "text": [
      "The shortest trip duration is on 83 with 1 minutes, and the longest trip is on 126 with 1440 minutes\n"
     ]
    }
   ],
   "source": [
    "low_dur = df_metro.duration.idxmin()\n",
    "high_dur = df_metro.duration.idxmax()\n",
    "low_anom = df_metro.duration.min()\n",
    "high_anom = df_metro.duration.max()\n",
    "\n",
    "print(f'The shortest trip duration is on {low_dur} with {low_anom} minutes, and the longest trip is on {high_dur} with {high_anom} minutes')"
   ]
  },
  {
   "cell_type": "code",
   "execution_count": 19,
   "id": "53ed6697",
   "metadata": {},
   "outputs": [
    {
     "data": {
      "image/png": "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\n",
      "text/plain": [
       "<Figure size 432x288 with 1 Axes>"
      ]
     },
     "metadata": {
      "needs_background": "light"
     },
     "output_type": "display_data"
    }
   ],
   "source": [
    "df_metro.duration.hist(bins=40);"
   ]
  },
  {
   "cell_type": "markdown",
   "id": "6654a304",
   "metadata": {},
   "source": [
    "I remove the rows where the duration is over 200, an estimate based off the barplot made\n",
    "* this leaves us with all the trips less than 200 minutes (just over 3 hours)\n",
    "* I chose 200 minutes after testing 600, 400 and 300 minutes and found the distributions were still extremely skewed\n",
    "* I didn't want to go much below 200 minutes so not much data was lost and i thought some people may still have a trip for around 3 hours\n",
    "* the graph is still very skewed but has more of a shape than previously"
   ]
  },
  {
   "cell_type": "code",
   "execution_count": 10,
   "id": "3e001860",
   "metadata": {},
   "outputs": [],
   "source": [
    "df_metro = df_metro[df_metro.duration < 200]"
   ]
  },
  {
   "cell_type": "code",
   "execution_count": 21,
   "id": "db0434d0",
   "metadata": {},
   "outputs": [
    {
     "data": {
      "image/png": "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\n",
      "text/plain": [
       "<Figure size 432x288 with 1 Axes>"
      ]
     },
     "metadata": {
      "needs_background": "light"
     },
     "output_type": "display_data"
    }
   ],
   "source": [
    "df_metro.duration.hist(color=\"pink\", bins=40);"
   ]
  },
  {
   "cell_type": "markdown",
   "id": "312f0628",
   "metadata": {},
   "source": [
    "Looking at the distributions of the passholder types a few things stand out:\n",
    "* Flex pass only has trips towards the 0 mark\n",
    "* Testing pass is positively skewed but has what looks like an outlier near the 150 mark\n",
    "* Walk-up trips look pretty evenly spread with a bit less density towards the 200 mark\n",
    "     * This is similar for monthly pass and one day pass too\n",
    "* The annual pass has a lot of samples where the duration is below around 20 minutes, then is scattered up to the 200 mark"
   ]
  },
  {
   "cell_type": "code",
   "execution_count": 22,
   "id": "28595195",
   "metadata": {},
   "outputs": [
    {
     "data": {
      "image/png": "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\n",
      "text/plain": [
       "<Figure size 360x360 with 1 Axes>"
      ]
     },
     "metadata": {
      "needs_background": "light"
     },
     "output_type": "display_data"
    }
   ],
   "source": [
    "sns.catplot(x= 'passholder_type', y='duration', data=df_metro)\n",
    "plt.xticks(rotation=45);"
   ]
  },
  {
   "cell_type": "markdown",
   "id": "74dc7c05",
   "metadata": {},
   "source": [
    "Next, we will look at how the duration of a journey changes betwen one way trips and round trips\n",
    "\n",
    "We start by encoding the two categories, a one way trip becomes 0, and a round trip becomes 1"
   ]
  },
  {
   "cell_type": "code",
   "execution_count": 23,
   "id": "97c667c5",
   "metadata": {},
   "outputs": [
    {
     "data": {
      "text/html": [
       "<div>\n",
       "<style scoped>\n",
       "    .dataframe tbody tr th:only-of-type {\n",
       "        vertical-align: middle;\n",
       "    }\n",
       "\n",
       "    .dataframe tbody tr th {\n",
       "        vertical-align: top;\n",
       "    }\n",
       "\n",
       "    .dataframe thead th {\n",
       "        text-align: right;\n",
       "    }\n",
       "</style>\n",
       "<table border=\"1\" class=\"dataframe\">\n",
       "  <thead>\n",
       "    <tr style=\"text-align: right;\">\n",
       "      <th></th>\n",
       "      <th>trip_route_category</th>\n",
       "      <th>trip_route_category_enc</th>\n",
       "    </tr>\n",
       "  </thead>\n",
       "  <tbody>\n",
       "    <tr>\n",
       "      <th>0</th>\n",
       "      <td>One Way</td>\n",
       "      <td>0</td>\n",
       "    </tr>\n",
       "    <tr>\n",
       "      <th>1</th>\n",
       "      <td>Round Trip</td>\n",
       "      <td>1</td>\n",
       "    </tr>\n",
       "    <tr>\n",
       "      <th>2</th>\n",
       "      <td>One Way</td>\n",
       "      <td>0</td>\n",
       "    </tr>\n",
       "    <tr>\n",
       "      <th>3</th>\n",
       "      <td>One Way</td>\n",
       "      <td>0</td>\n",
       "    </tr>\n",
       "    <tr>\n",
       "      <th>4</th>\n",
       "      <td>One Way</td>\n",
       "      <td>0</td>\n",
       "    </tr>\n",
       "    <tr>\n",
       "      <th>...</th>\n",
       "      <td>...</td>\n",
       "      <td>...</td>\n",
       "    </tr>\n",
       "    <tr>\n",
       "      <th>92119</th>\n",
       "      <td>One Way</td>\n",
       "      <td>0</td>\n",
       "    </tr>\n",
       "    <tr>\n",
       "      <th>92120</th>\n",
       "      <td>Round Trip</td>\n",
       "      <td>1</td>\n",
       "    </tr>\n",
       "    <tr>\n",
       "      <th>92121</th>\n",
       "      <td>One Way</td>\n",
       "      <td>0</td>\n",
       "    </tr>\n",
       "    <tr>\n",
       "      <th>92122</th>\n",
       "      <td>One Way</td>\n",
       "      <td>0</td>\n",
       "    </tr>\n",
       "    <tr>\n",
       "      <th>92123</th>\n",
       "      <td>One Way</td>\n",
       "      <td>0</td>\n",
       "    </tr>\n",
       "  </tbody>\n",
       "</table>\n",
       "<p>90392 rows × 2 columns</p>\n",
       "</div>"
      ],
      "text/plain": [
       "      trip_route_category  trip_route_category_enc\n",
       "0                 One Way                        0\n",
       "1              Round Trip                        1\n",
       "2                 One Way                        0\n",
       "3                 One Way                        0\n",
       "4                 One Way                        0\n",
       "...                   ...                      ...\n",
       "92119             One Way                        0\n",
       "92120          Round Trip                        1\n",
       "92121             One Way                        0\n",
       "92122             One Way                        0\n",
       "92123             One Way                        0\n",
       "\n",
       "[90392 rows x 2 columns]"
      ]
     },
     "execution_count": 23,
     "metadata": {},
     "output_type": "execute_result"
    }
   ],
   "source": [
    "label = LabelEncoder()\n",
    "df_metro['trip_route_category_enc'] = label.fit_transform(df_metro['trip_route_category'])\n",
    "df_metro[['trip_route_category', 'trip_route_category_enc']]"
   ]
  },
  {
   "cell_type": "markdown",
   "id": "f760068e",
   "metadata": {},
   "source": [
    "Next, a kde plot is made showing the distribution of both kinds of trips against each other\n",
    "\n",
    "* We see that one way trips has a lower standard deviation (less spread out) and round trips are slightly more spread out \n",
    "* Round trips peaks slightly sooner than one way trips at around 0, but then has a second lower peak at around 25 minutes."
   ]
  },
  {
   "cell_type": "code",
   "execution_count": 26,
   "id": "00d70aba",
   "metadata": {},
   "outputs": [
    {
     "data": {
      "image/png": "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\n",
      "text/plain": [
       "<Figure size 864x576 with 1 Axes>"
      ]
     },
     "metadata": {
      "needs_background": "light"
     },
     "output_type": "display_data"
    }
   ],
   "source": [
    "fig = plt.figure(figsize=(12, 8))\n",
    "ax = sns.kdeplot(df_metro.loc[(df_metro['trip_route_category_enc'] == 0), 'duration'],\n",
    "                 color='pink', shade=True, label='One way')\n",
    "ax = sns.kdeplot(df_metro.loc[(df_metro['trip_route_category_enc'] == 1), 'duration'],\n",
    "                 color='blue', shade=True, label='Round trip')\n",
    "plt.title('Duration distribution - One way trip vs Round trip', fontsize=17)\n",
    "plt.ylabel('Frequency of trip route categories', fontsize=12)\n",
    "plt.xlabel('Duration', fontsize=12)\n",
    "plt.legend();"
   ]
  },
  {
   "cell_type": "markdown",
   "id": "ccadf4a5",
   "metadata": {},
   "source": [
    "Now we will look at some time series analysis.\n",
    "* To start, I split the time column into year, month, day of week and hour and append each to the end of the dataframe"
   ]
  },
  {
   "cell_type": "code",
   "execution_count": 27,
   "id": "26c66663",
   "metadata": {},
   "outputs": [],
   "source": [
    "df_metro['year'] = df_metro['start_time'].dt.year\n",
    "df_metro['month'] = df_metro['start_time'].dt.month\n",
    "df_metro['day'] = df_metro['start_time'].dt.day\n",
    "df_metro['day_of_week'] = df_metro['start_time'].dt.dayofweek\n",
    "df_metro['hour'] = df_metro['start_time'].dt.hour"
   ]
  },
  {
   "cell_type": "markdown",
   "id": "bea13668",
   "metadata": {},
   "source": [
    "By grouping the number of rides by the day of the week they start on we see that Saturdays have the least number of rides and Tuesday have the most number of rides"
   ]
  },
  {
   "cell_type": "code",
   "execution_count": 28,
   "id": "d55e6601",
   "metadata": {},
   "outputs": [
    {
     "data": {
      "text/html": [
       "<div>\n",
       "<style scoped>\n",
       "    .dataframe tbody tr th:only-of-type {\n",
       "        vertical-align: middle;\n",
       "    }\n",
       "\n",
       "    .dataframe tbody tr th {\n",
       "        vertical-align: top;\n",
       "    }\n",
       "\n",
       "    .dataframe thead th {\n",
       "        text-align: right;\n",
       "    }\n",
       "</style>\n",
       "<table border=\"1\" class=\"dataframe\">\n",
       "  <thead>\n",
       "    <tr style=\"text-align: right;\">\n",
       "      <th></th>\n",
       "      <th>number_of_rides</th>\n",
       "    </tr>\n",
       "    <tr>\n",
       "      <th>day_of_week</th>\n",
       "      <th></th>\n",
       "    </tr>\n",
       "  </thead>\n",
       "  <tbody>\n",
       "    <tr>\n",
       "      <th>0</th>\n",
       "      <td>13698</td>\n",
       "    </tr>\n",
       "    <tr>\n",
       "      <th>1</th>\n",
       "      <td>14077</td>\n",
       "    </tr>\n",
       "    <tr>\n",
       "      <th>2</th>\n",
       "      <td>13374</td>\n",
       "    </tr>\n",
       "    <tr>\n",
       "      <th>3</th>\n",
       "      <td>13667</td>\n",
       "    </tr>\n",
       "    <tr>\n",
       "      <th>4</th>\n",
       "      <td>13578</td>\n",
       "    </tr>\n",
       "    <tr>\n",
       "      <th>5</th>\n",
       "      <td>10896</td>\n",
       "    </tr>\n",
       "    <tr>\n",
       "      <th>6</th>\n",
       "      <td>11102</td>\n",
       "    </tr>\n",
       "  </tbody>\n",
       "</table>\n",
       "</div>"
      ],
      "text/plain": [
       "             number_of_rides\n",
       "day_of_week                 \n",
       "0                      13698\n",
       "1                      14077\n",
       "2                      13374\n",
       "3                      13667\n",
       "4                      13578\n",
       "5                      10896\n",
       "6                      11102"
      ]
     },
     "execution_count": 28,
     "metadata": {},
     "output_type": "execute_result"
    }
   ],
   "source": [
    "df_metro.groupby(['day_of_week']).agg(number_of_rides=('trip_route_category', 'count'))"
   ]
  },
  {
   "cell_type": "code",
   "execution_count": 29,
   "id": "53d948d1",
   "metadata": {},
   "outputs": [
    {
     "data": {
      "text/plain": [
       "<AxesSubplot:xlabel='day_of_week'>"
      ]
     },
     "execution_count": 29,
     "metadata": {},
     "output_type": "execute_result"
    },
    {
     "data": {
      "image/png": "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\n",
      "text/plain": [
       "<Figure size 576x432 with 1 Axes>"
      ]
     },
     "metadata": {
      "needs_background": "light"
     },
     "output_type": "display_data"
    }
   ],
   "source": [
    "df_metro.groupby(['day_of_week'])['duration'].count().plot.bar(figsize = (8, 6))"
   ]
  },
  {
   "cell_type": "markdown",
   "id": "13ef161b",
   "metadata": {},
   "source": [
    "In a similar way we can look at the number of trips but using their starting hour instead\n",
    "\n",
    "We see that, as you would expect, there are very few trips at night especially between 1 and 5 am, and most trips start in the 17th hour which makes sense as people will probably use the bikes to go home after work."
   ]
  },
  {
   "cell_type": "code",
   "execution_count": 30,
   "id": "6fbb4ac0",
   "metadata": {},
   "outputs": [
    {
     "data": {
      "text/plain": [
       "<AxesSubplot:xlabel='hour'>"
      ]
     },
     "execution_count": 30,
     "metadata": {},
     "output_type": "execute_result"
    },
    {
     "data": {
      "image/png": "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\n",
      "text/plain": [
       "<Figure size 576x432 with 1 Axes>"
      ]
     },
     "metadata": {
      "needs_background": "light"
     },
     "output_type": "display_data"
    }
   ],
   "source": [
    "df_metro.groupby(['hour'])['duration'].count().plot.bar(figsize = (8, 6))"
   ]
  },
  {
   "cell_type": "markdown",
   "id": "8b1037bf",
   "metadata": {},
   "source": [
    "The below histogram shows us that there is an increase in bike rides up until around the third week of august (which is peak of summer so makes sense as more people will be out in the sun), then there appears to be a steady decrease in rides from there but would need a longer period of data to see if this relationship with the seasons is true."
   ]
  },
  {
   "cell_type": "code",
   "execution_count": 32,
   "id": "b231a1ab",
   "metadata": {},
   "outputs": [
    {
     "data": {
      "image/png": "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\n",
      "text/plain": [
       "<Figure size 864x360 with 1 Axes>"
      ]
     },
     "metadata": {
      "needs_background": "light"
     },
     "output_type": "display_data"
    }
   ],
   "source": [
    "df_metro['start_time'].hist(figsize=(12,5), bins=12);"
   ]
  },
  {
   "cell_type": "markdown",
   "id": "a5e669a8",
   "metadata": {},
   "source": [
    "Next, I want to look at the distance travelled for the trips\n",
    "* to find the distance between two geo coordinates, the haversine distance formula will need to be used (https://en.wikipedia.org/wiki/Haversine_formula)\n",
    "* I opt for a formula that calculates row by row of a dataframe (idea from https://stackoverflow.com/questions/29545704/fast-haversine-approximation-python-pandas)\n",
    "* I will use an estimate for the radius of earth at 6378 km (https://imagine.gsfc.nasa.gov/features/cosmic/earth_info.html)"
   ]
  },
  {
   "cell_type": "code",
   "execution_count": 13,
   "id": "c2194ec8",
   "metadata": {},
   "outputs": [],
   "source": [
    "def haversine_distance(geo):\n",
    "    dlon = np.radians(geo[2]) - np.radians(geo[0])\n",
    "    dlat = np.radians(geo[3]) - np.radians(geo[1]) \n",
    "    a = np.sin(dlat / 2)**2 + np.cos(np.radians(geo[1])) * np.cos(np.radians(geo[3])) * np.sin(dlon / 2)**2\n",
    "    c = 2 * np.arctan2(np.sqrt(a), np.sqrt(1 - a))\n",
    "    return 6378 * c"
   ]
  },
  {
   "cell_type": "code",
   "execution_count": 14,
   "id": "c63f61b4",
   "metadata": {},
   "outputs": [],
   "source": [
    "df_metro['distance'] = df_metro[['start_lon', 'start_lat', 'end_lon', 'end_lat']].apply(haversine_distance, axis=1)"
   ]
  },
  {
   "cell_type": "markdown",
   "id": "9d56cf9f",
   "metadata": {},
   "source": [
    "If we plot distance against duration the resultant graphs gradient will show the speed. Average speed seems to be around 1km/5mins (very rough estimate taken off graph)"
   ]
  },
  {
   "cell_type": "code",
   "execution_count": 15,
   "id": "7ccad604",
   "metadata": {},
   "outputs": [
    {
     "data": {
      "image/png": "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\n",
      "text/plain": [
       "<Figure size 504x504 with 3 Axes>"
      ]
     },
     "metadata": {
      "needs_background": "light"
     },
     "output_type": "display_data"
    }
   ],
   "source": [
    "sns.jointplot(x=df_metro['distance'],\n",
    "              y=df_metro['duration'], kind='hex', size = 7, color='pink', \n",
    "              joint_kws=dict(gridsize=200), xlim=(0, 5), ylim=(0, 30));"
   ]
  },
  {
   "cell_type": "markdown",
   "id": "5de91f13",
   "metadata": {},
   "source": [
    "The summary statistics of the distance show us that the maximum journey lenght was 37.6km, and the mean is 1.8km. This is inline with the statistics of the duration of journeys where most were very short but few journeys were long. It has the same skew."
   ]
  },
  {
   "cell_type": "code",
   "execution_count": 36,
   "id": "cbc56b55",
   "metadata": {},
   "outputs": [
    {
     "data": {
      "text/plain": [
       "count    90392.000000\n",
       "mean         1.852998\n",
       "std          3.732385\n",
       "min          0.000000\n",
       "25%          0.445607\n",
       "50%          0.900228\n",
       "75%          1.751646\n",
       "max         37.649388\n",
       "Name: distance, dtype: float64"
      ]
     },
     "execution_count": 36,
     "metadata": {},
     "output_type": "execute_result"
    }
   ],
   "source": [
    "df_metro['distance'].describe()"
   ]
  }
}
